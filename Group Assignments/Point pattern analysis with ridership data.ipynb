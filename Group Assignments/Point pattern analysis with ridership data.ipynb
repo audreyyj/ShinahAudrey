{
 "cells": [
  {
   "cell_type": "markdown",
   "id": "adjustable-arthritis",
   "metadata": {},
   "source": [
    "## Spatial analysis with ridership data\n",
    " \n",
    "Hi, this is Shinah. I'm going to show how I applied spaticial correlation to our team's research. Audrey used job point data of LA in the other notebook and here, I used Seoul ridership data, which is a point data. Each point is a location of a subway station in Seoul and it has ridership data in it.   \n",
    "(CAVEAT: An error called 'cannot convert float NaN to integer' appeared whenever I tried mapping on contextily basemap. When I plot the map without the basemap code, there appears no issue. Searched through Stackoverflow but couldn't solve it. Wonder how to solve this..)"
   ]
  },
  {
   "cell_type": "markdown",
   "id": "palestinian-subdivision",
   "metadata": {},
   "source": [
    "Import library"
   ]
  },
  {
   "cell_type": "code",
   "execution_count": 1,
   "id": "corrected-international",
   "metadata": {},
   "outputs": [
    {
     "name": "stderr",
     "output_type": "stream",
     "text": [
      "/opt/conda/lib/python3.8/site-packages/geopandas/_compat.py:106: UserWarning: The Shapely GEOS version (3.8.1-CAPI-1.13.3) is incompatible with the GEOS version PyGEOS was compiled with (3.9.0-CAPI-1.16.2). Conversions between both will be slow.\n",
      "  warnings.warn(\n"
     ]
    }
   ],
   "source": [
    "#The usuals\n",
    "import geopandas as gpd\n",
    "import matplotlib.pyplot as plt\n",
    "import pandas as pd\n",
    "import contextily as ctx\n",
    "\n",
    "# new for data viz\n",
    "import seaborn as sns\n",
    "\n",
    "# to explore point patterns\n",
    "from pointpats import centrography\n",
    "from matplotlib.patches import Ellipse\n",
    "import numpy"
   ]
  },
  {
   "cell_type": "markdown",
   "id": "facial-customs",
   "metadata": {},
   "source": [
    "Import a file to use"
   ]
  },
  {
   "cell_type": "code",
   "execution_count": 2,
   "id": "micro-photographer",
   "metadata": {},
   "outputs": [],
   "source": [
    "#abbrevated 'seoul ridership' to 'sr'\n",
    "sr = gpd.read_file('data/Seoul_rail_ridership2.json')"
   ]
  },
  {
   "cell_type": "markdown",
   "id": "drawn-manitoba",
   "metadata": {},
   "source": [
    "Check the shape"
   ]
  },
  {
   "cell_type": "code",
   "execution_count": 3,
   "id": "continental-playlist",
   "metadata": {},
   "outputs": [
    {
     "data": {
      "text/html": [
       "<div>\n",
       "<style scoped>\n",
       "    .dataframe tbody tr th:only-of-type {\n",
       "        vertical-align: middle;\n",
       "    }\n",
       "\n",
       "    .dataframe tbody tr th {\n",
       "        vertical-align: top;\n",
       "    }\n",
       "\n",
       "    .dataframe thead th {\n",
       "        text-align: right;\n",
       "    }\n",
       "</style>\n",
       "<table border=\"1\" class=\"dataframe\">\n",
       "  <thead>\n",
       "    <tr style=\"text-align: right;\">\n",
       "      <th></th>\n",
       "      <th>line</th>\n",
       "      <th>stn_name</th>\n",
       "      <th>st_nm</th>\n",
       "      <th>ridership</th>\n",
       "      <th>geometry</th>\n",
       "    </tr>\n",
       "  </thead>\n",
       "  <tbody>\n",
       "    <tr>\n",
       "      <th>0</th>\n",
       "      <td>1호선</td>\n",
       "      <td>시청(1)역</td>\n",
       "      <td>시청(1)역</td>\n",
       "      <td>852766</td>\n",
       "      <td>POINT (198018.000 451601.000)</td>\n",
       "    </tr>\n",
       "    <tr>\n",
       "      <th>1</th>\n",
       "      <td>1호선</td>\n",
       "      <td>종각(1)역</td>\n",
       "      <td>종각(1)역</td>\n",
       "      <td>1309829</td>\n",
       "      <td>POINT (198343.000 452018.000)</td>\n",
       "    </tr>\n",
       "    <tr>\n",
       "      <th>2</th>\n",
       "      <td>1호선</td>\n",
       "      <td>동대문(1)역</td>\n",
       "      <td>동대문(1)역</td>\n",
       "      <td>504353</td>\n",
       "      <td>POINT (201032.000 452179.000)</td>\n",
       "    </tr>\n",
       "    <tr>\n",
       "      <th>3</th>\n",
       "      <td>1호선</td>\n",
       "      <td>동묘앞(1)역</td>\n",
       "      <td>동묘앞(1)역</td>\n",
       "      <td>423253</td>\n",
       "      <td>POINT (201444.000 452367.000)</td>\n",
       "    </tr>\n",
       "    <tr>\n",
       "      <th>4</th>\n",
       "      <td>1호선</td>\n",
       "      <td>신설동(1)역</td>\n",
       "      <td>신설동(1)역</td>\n",
       "      <td>613813</td>\n",
       "      <td>POINT (202246.000 452552.000)</td>\n",
       "    </tr>\n",
       "  </tbody>\n",
       "</table>\n",
       "</div>"
      ],
      "text/plain": [
       "  line stn_name    st_nm  ridership                       geometry\n",
       "0  1호선   시청(1)역   시청(1)역     852766  POINT (198018.000 451601.000)\n",
       "1  1호선   종각(1)역   종각(1)역    1309829  POINT (198343.000 452018.000)\n",
       "2  1호선  동대문(1)역  동대문(1)역     504353  POINT (201032.000 452179.000)\n",
       "3  1호선  동묘앞(1)역  동묘앞(1)역     423253  POINT (201444.000 452367.000)\n",
       "4  1호선  신설동(1)역  신설동(1)역     613813  POINT (202246.000 452552.000)"
      ]
     },
     "execution_count": 3,
     "metadata": {},
     "output_type": "execute_result"
    }
   ],
   "source": [
    "sr.head()"
   ]
  },
  {
   "cell_type": "markdown",
   "id": "north-assignment",
   "metadata": {},
   "source": [
    "### Heat map"
   ]
  },
  {
   "cell_type": "markdown",
   "id": "korean-nurse",
   "metadata": {},
   "source": [
    "Plot a basic heat map"
   ]
  },
  {
   "cell_type": "code",
   "execution_count": 4,
   "id": "standing-windows",
   "metadata": {},
   "outputs": [
    {
     "data": {
      "text/plain": [
       "<matplotlib.axes._subplots.AxesSubplot at 0x7f30526f1ca0>"
      ]
     },
     "execution_count": 4,
     "metadata": {},
     "output_type": "execute_result"
    },
    {
     "data": {
      "image/png": "[encoded data removed]",
      "text/plain": [
       "<Figure size 864x864 with 1 Axes>"
      ]
     },
     "metadata": {
      "needs_background": "light"
     },
     "output_type": "display_data"
    }
   ],
   "source": [
    "sr.plot(figsize=(12,12),\n",
    "             markersize=3)"
   ]
  },
  {
   "cell_type": "markdown",
   "id": "mineral-holmes",
   "metadata": {},
   "source": [
    "We can see that the subway stations delineates the boundary of Seoul. Also, it is obvious that the points are densely populated within Seoul boundary. The area where points are sparesly populated is outside of Seoul. (This shapefile does not inclde most of the stations located outskirts of Seoul, so there are only few stations in the northeast part of the map.) "
   ]
  },
  {
   "cell_type": "markdown",
   "id": "altered-program",
   "metadata": {},
   "source": [
    "### Interactive Map"
   ]
  },
  {
   "cell_type": "markdown",
   "id": "deadly-latino",
   "metadata": {},
   "source": [
    "Tried making interactive map just to practice the code. This part does not directly relate to the research direction."
   ]
  },
  {
   "cell_type": "markdown",
   "id": "affiliated-startup",
   "metadata": {},
   "source": [
    "Make a list that have lines in it. I'm going to make a interactive map that drop downs the line names."
   ]
  },
  {
   "cell_type": "code",
   "execution_count": 5,
   "id": "marine-newman",
   "metadata": {},
   "outputs": [
    {
     "data": {
      "text/plain": [
       "['7호선',\n",
       " '5호선',\n",
       " '2호선',\n",
       " '6호선',\n",
       " '3호선',\n",
       " '9호선',\n",
       " '4호선',\n",
       " '분당선',\n",
       " '8호선',\n",
       " '9호선2~3단계',\n",
       " '공항철도 1호선',\n",
       " '1호선',\n",
       " '수인선',\n",
       " '경원선']"
      ]
     },
     "execution_count": 5,
     "metadata": {},
     "output_type": "execute_result"
    }
   ],
   "source": [
    "lines = sr.line.value_counts().index.tolist()\n",
    "lines"
   ]
  },
  {
   "cell_type": "markdown",
   "id": "national-motel",
   "metadata": {},
   "source": [
    "Import that interact library"
   ]
  },
  {
   "cell_type": "code",
   "execution_count": 6,
   "id": "surface-scott",
   "metadata": {},
   "outputs": [],
   "source": [
    "import ipywidgets as widgets\n",
    "from ipywidgets import interact, interact_manual"
   ]
  },
  {
   "cell_type": "markdown",
   "id": "hollow-furniture",
   "metadata": {},
   "source": [
    "Make a fuction that will be used to interact with a user."
   ]
  },
  {
   "cell_type": "code",
   "execution_count": 7,
   "id": "alleged-necklace",
   "metadata": {},
   "outputs": [
    {
     "data": {
      "application/vnd.jupyter.widget-view+json": {
       "model_id": "687ccd5b0cd449ba9e9e40ad4a66c231",
       "version_major": 2,
       "version_minor": 0
      },
      "text/plain": [
       "interactive(children=(Dropdown(description='lines', options=('7호선', '5호선', '2호선', '6호선', '3호선', '9호선', '4호선', …"
      ]
     },
     "metadata": {},
     "output_type": "display_data"
    },
    {
     "data": {
      "image/png": "[encoded data removed]",
      "text/plain": [
       "<Figure size 648x648 with 1 Axes>"
      ]
     },
     "metadata": {
      "needs_background": "light"
     },
     "output_type": "display_data"
    }
   ],
   "source": [
    "# to make this function interactive\n",
    "@interact\n",
    "\n",
    "# function argument will become interactive\n",
    "def _by(lines=lines):\n",
    "    # table\n",
    "    display(sr[sr.line == lines].head()) \n",
    "\n",
    "    # map\n",
    "    ax = sr[sr.line == lines].plot(figsize=(9,9), markersize=10)\n",
    "    \n",
    "    # axis\n",
    "    ax.axis('off')\n",
    "\n",
    "    # basemap\n",
    "    ctx.add_basemap(ax,\n",
    "                    crs='epsg:4326', # surprise! You can change the crs here!\n",
    "                    source=ctx.providers.CartoDB.Positron)"
   ]
  },
  {
   "cell_type": "markdown",
   "id": "spare-strength",
   "metadata": {
    "slideshow": {
     "slide_type": "slide"
    }
   },
   "source": [
    "I can choose the staions to see by lines by using this interactive map.   \n",
    "'Cannot convert float NaN to integer' error appeared as I mentioned in the introduction of this notebook. If I eliminate the ctx.basemap code line that calls the basemap, the error disappears. "
   ]
  },
  {
   "cell_type": "markdown",
   "id": "subtle-idaho",
   "metadata": {},
   "source": [
    "### Join plot with Seaborn (KDE analysis)"
   ]
  },
  {
   "cell_type": "markdown",
   "id": "impressed-biology",
   "metadata": {},
   "source": [
    "Seaborn needs an x and y column extracting it from the geometry field"
   ]
  },
  {
   "cell_type": "code",
   "execution_count": 8,
   "id": "wanted-construction",
   "metadata": {},
   "outputs": [],
   "source": [
    "sr['x'] = sr.geometry.x\n",
    "sr['y'] = sr.geometry.y"
   ]
  },
  {
   "cell_type": "code",
   "execution_count": 9,
   "id": "perfect-jewelry",
   "metadata": {},
   "outputs": [
    {
     "data": {
      "text/html": [
       "<div>\n",
       "<style scoped>\n",
       "    .dataframe tbody tr th:only-of-type {\n",
       "        vertical-align: middle;\n",
       "    }\n",
       "\n",
       "    .dataframe tbody tr th {\n",
       "        vertical-align: top;\n",
       "    }\n",
       "\n",
       "    .dataframe thead th {\n",
       "        text-align: right;\n",
       "    }\n",
       "</style>\n",
       "<table border=\"1\" class=\"dataframe\">\n",
       "  <thead>\n",
       "    <tr style=\"text-align: right;\">\n",
       "      <th></th>\n",
       "      <th>line</th>\n",
       "      <th>stn_name</th>\n",
       "      <th>st_nm</th>\n",
       "      <th>ridership</th>\n",
       "      <th>geometry</th>\n",
       "      <th>x</th>\n",
       "      <th>y</th>\n",
       "    </tr>\n",
       "  </thead>\n",
       "  <tbody>\n",
       "    <tr>\n",
       "      <th>0</th>\n",
       "      <td>1호선</td>\n",
       "      <td>시청(1)역</td>\n",
       "      <td>시청(1)역</td>\n",
       "      <td>852766</td>\n",
       "      <td>POINT (198018.000 451601.000)</td>\n",
       "      <td>198018.0</td>\n",
       "      <td>451601.0</td>\n",
       "    </tr>\n",
       "    <tr>\n",
       "      <th>1</th>\n",
       "      <td>1호선</td>\n",
       "      <td>종각(1)역</td>\n",
       "      <td>종각(1)역</td>\n",
       "      <td>1309829</td>\n",
       "      <td>POINT (198343.000 452018.000)</td>\n",
       "      <td>198343.0</td>\n",
       "      <td>452018.0</td>\n",
       "    </tr>\n",
       "    <tr>\n",
       "      <th>2</th>\n",
       "      <td>1호선</td>\n",
       "      <td>동대문(1)역</td>\n",
       "      <td>동대문(1)역</td>\n",
       "      <td>504353</td>\n",
       "      <td>POINT (201032.000 452179.000)</td>\n",
       "      <td>201032.0</td>\n",
       "      <td>452179.0</td>\n",
       "    </tr>\n",
       "    <tr>\n",
       "      <th>3</th>\n",
       "      <td>1호선</td>\n",
       "      <td>동묘앞(1)역</td>\n",
       "      <td>동묘앞(1)역</td>\n",
       "      <td>423253</td>\n",
       "      <td>POINT (201444.000 452367.000)</td>\n",
       "      <td>201444.0</td>\n",
       "      <td>452367.0</td>\n",
       "    </tr>\n",
       "    <tr>\n",
       "      <th>4</th>\n",
       "      <td>1호선</td>\n",
       "      <td>신설동(1)역</td>\n",
       "      <td>신설동(1)역</td>\n",
       "      <td>613813</td>\n",
       "      <td>POINT (202246.000 452552.000)</td>\n",
       "      <td>202246.0</td>\n",
       "      <td>452552.0</td>\n",
       "    </tr>\n",
       "  </tbody>\n",
       "</table>\n",
       "</div>"
      ],
      "text/plain": [
       "  line stn_name    st_nm  ridership                       geometry         x  \\\n",
       "0  1호선   시청(1)역   시청(1)역     852766  POINT (198018.000 451601.000)  198018.0   \n",
       "1  1호선   종각(1)역   종각(1)역    1309829  POINT (198343.000 452018.000)  198343.0   \n",
       "2  1호선  동대문(1)역  동대문(1)역     504353  POINT (201032.000 452179.000)  201032.0   \n",
       "3  1호선  동묘앞(1)역  동묘앞(1)역     423253  POINT (201444.000 452367.000)  201444.0   \n",
       "4  1호선  신설동(1)역  신설동(1)역     613813  POINT (202246.000 452552.000)  202246.0   \n",
       "\n",
       "          y  \n",
       "0  451601.0  \n",
       "1  452018.0  \n",
       "2  452179.0  \n",
       "3  452367.0  \n",
       "4  452552.0  "
      ]
     },
     "execution_count": 9,
     "metadata": {},
     "output_type": "execute_result"
    }
   ],
   "source": [
    "sr.head()"
   ]
  },
  {
   "cell_type": "markdown",
   "id": "certified-spanking",
   "metadata": {},
   "source": [
    "(Just copied the limits here from the previous weeks' notebook just in case)   \n",
    "ax.set_ylim(4501300.15,  4537149.12)   \n",
    "ax.set_xlim(14113715.08, 14161258.91)  "
   ]
  },
  {
   "cell_type": "markdown",
   "id": "declared-patient",
   "metadata": {},
   "source": [
    "The below two cells are attempts to solve the 'Cannot convert float NaN to integer' error because it appears again in this section also.."
   ]
  },
  {
   "cell_type": "code",
   "execution_count": 10,
   "id": "assumed-swimming",
   "metadata": {},
   "outputs": [],
   "source": [
    "sr.loc[sr['x'].notnull(), 'x'] = sr.loc[sr['x'].notnull(), 'x'].apply(int)\n",
    "sr.loc[sr['y'].notnull(), 'y'] = sr.loc[sr['y'].notnull(), 'y'].apply(int)"
   ]
  },
  {
   "cell_type": "code",
   "execution_count": 11,
   "id": "modified-saskatchewan",
   "metadata": {},
   "outputs": [],
   "source": [
    "sr['ridership'] = sr['ridership'].dropna()"
   ]
  },
  {
   "cell_type": "markdown",
   "id": "hourly-italic",
   "metadata": {},
   "source": [
    "https://stackoverflow.com/questions/64448611/how-can-i-solve-the-issue-valueerror-cannot-convert-float-nan-to-integer-in-phttps://seaborn.pydata.org/generated/seaborn.kdeplot.html   \n",
    "https://www.python-graph-gallery.com/73-control-bandwidth-of-seaborn-density-plot   "
   ]
  },
  {
   "cell_type": "markdown",
   "id": "dressed-singles",
   "metadata": {},
   "source": [
    "Anyways, plotting the joint plot to see the KDE result. Here, a thing to notice is I weighted 'ridership' column when calculating the kernel density to see where people used the subway most. This is because calculating the density only taking account the point location of station just executes a density that means the place where there are many stations."
   ]
  },
  {
   "cell_type": "code",
   "execution_count": 12,
   "id": "religious-venice",
   "metadata": {},
   "outputs": [
    {
     "name": "stderr",
     "output_type": "stream",
     "text": [
      "/opt/conda/lib/python3.8/site-packages/contextily/tile.py:579: RuntimeWarning: invalid value encountered in subtract\n",
      "  lon_length = np.subtract(*lon_range)\n",
      "/opt/conda/lib/python3.8/site-packages/contextily/tile.py:584: RuntimeWarning: divide by zero encountered in double_scalars\n",
      "  zoom_lat = np.ceil(np.log2(360 * 2.0 / lat_length))\n"
     ]
    },
    {
     "ename": "ValueError",
     "evalue": "cannot convert float NaN to integer",
     "output_type": "error",
     "traceback": [
      "\u001b[0;31m---------------------------------------------------------------------------\u001b[0m",
      "\u001b[0;31mValueError\u001b[0m                                Traceback (most recent call last)",
      "\u001b[0;32m<ipython-input-12-c5fa3d06212a>\u001b[0m in \u001b[0;36m<module>\u001b[0;34m\u001b[0m\n\u001b[1;32m     12\u001b[0m \u001b[0;31m#sns.color_palette(\"ch:s=-.2,r=.6\", as_cmap=True)\u001b[0m\u001b[0;34m\u001b[0m\u001b[0;34m\u001b[0m\u001b[0;34m\u001b[0m\u001b[0m\n\u001b[1;32m     13\u001b[0m \u001b[0;31m# add basemap\u001b[0m\u001b[0;34m\u001b[0m\u001b[0;34m\u001b[0m\u001b[0;34m\u001b[0m\u001b[0m\n\u001b[0;32m---> 14\u001b[0;31m ctx.add_basemap(g.ax_joint,\n\u001b[0m\u001b[1;32m     15\u001b[0m                 crs='epsg:4326')\n\u001b[1;32m     16\u001b[0m \u001b[0;34m\u001b[0m\u001b[0m\n",
      "\u001b[0;32m/opt/conda/lib/python3.8/site-packages/contextily/plotting.py\u001b[0m in \u001b[0;36madd_basemap\u001b[0;34m(ax, zoom, source, interpolation, attribution, attribution_size, reset_extent, crs, resampling, url, **extra_imshow_args)\u001b[0m\n\u001b[1;32m    141\u001b[0m             )\n\u001b[1;32m    142\u001b[0m         \u001b[0;31m# Download image\u001b[0m\u001b[0;34m\u001b[0m\u001b[0;34m\u001b[0m\u001b[0;34m\u001b[0m\u001b[0m\n\u001b[0;32m--> 143\u001b[0;31m         image, extent = bounds2img(\n\u001b[0m\u001b[1;32m    144\u001b[0m             \u001b[0mleft\u001b[0m\u001b[0;34m,\u001b[0m \u001b[0mbottom\u001b[0m\u001b[0;34m,\u001b[0m \u001b[0mright\u001b[0m\u001b[0;34m,\u001b[0m \u001b[0mtop\u001b[0m\u001b[0;34m,\u001b[0m \u001b[0mzoom\u001b[0m\u001b[0;34m=\u001b[0m\u001b[0mzoom\u001b[0m\u001b[0;34m,\u001b[0m \u001b[0msource\u001b[0m\u001b[0;34m=\u001b[0m\u001b[0msource\u001b[0m\u001b[0;34m,\u001b[0m \u001b[0mll\u001b[0m\u001b[0;34m=\u001b[0m\u001b[0;32mFalse\u001b[0m\u001b[0;34m\u001b[0m\u001b[0;34m\u001b[0m\u001b[0m\n\u001b[1;32m    145\u001b[0m         )\n",
      "\u001b[0;32m/opt/conda/lib/python3.8/site-packages/contextily/tile.py\u001b[0m in \u001b[0;36mbounds2img\u001b[0;34m(w, s, e, n, zoom, source, ll, wait, max_retries, url)\u001b[0m\n\u001b[1;32m    238\u001b[0m     \u001b[0mauto_zoom\u001b[0m \u001b[0;34m=\u001b[0m \u001b[0mzoom\u001b[0m \u001b[0;34m==\u001b[0m \u001b[0;34m\"auto\"\u001b[0m\u001b[0;34m\u001b[0m\u001b[0;34m\u001b[0m\u001b[0m\n\u001b[1;32m    239\u001b[0m     \u001b[0;32mif\u001b[0m \u001b[0mauto_zoom\u001b[0m\u001b[0;34m:\u001b[0m\u001b[0;34m\u001b[0m\u001b[0;34m\u001b[0m\u001b[0m\n\u001b[0;32m--> 240\u001b[0;31m         \u001b[0mzoom\u001b[0m \u001b[0;34m=\u001b[0m \u001b[0m_calculate_zoom\u001b[0m\u001b[0;34m(\u001b[0m\u001b[0mw\u001b[0m\u001b[0;34m,\u001b[0m \u001b[0ms\u001b[0m\u001b[0;34m,\u001b[0m \u001b[0me\u001b[0m\u001b[0;34m,\u001b[0m \u001b[0mn\u001b[0m\u001b[0;34m)\u001b[0m\u001b[0;34m\u001b[0m\u001b[0;34m\u001b[0m\u001b[0m\n\u001b[0m\u001b[1;32m    241\u001b[0m     \u001b[0mzoom\u001b[0m \u001b[0;34m=\u001b[0m \u001b[0m_validate_zoom\u001b[0m\u001b[0;34m(\u001b[0m\u001b[0mzoom\u001b[0m\u001b[0;34m,\u001b[0m \u001b[0mprovider\u001b[0m\u001b[0;34m,\u001b[0m \u001b[0mauto\u001b[0m\u001b[0;34m=\u001b[0m\u001b[0mauto_zoom\u001b[0m\u001b[0;34m)\u001b[0m\u001b[0;34m\u001b[0m\u001b[0;34m\u001b[0m\u001b[0m\n\u001b[1;32m    242\u001b[0m     \u001b[0;31m# download and merge tiles\u001b[0m\u001b[0;34m\u001b[0m\u001b[0;34m\u001b[0m\u001b[0;34m\u001b[0m\u001b[0m\n",
      "\u001b[0;32m/opt/conda/lib/python3.8/site-packages/contextily/tile.py\u001b[0m in \u001b[0;36m_calculate_zoom\u001b[0;34m(w, s, e, n)\u001b[0m\n\u001b[1;32m    584\u001b[0m     \u001b[0mzoom_lat\u001b[0m \u001b[0;34m=\u001b[0m \u001b[0mnp\u001b[0m\u001b[0;34m.\u001b[0m\u001b[0mceil\u001b[0m\u001b[0;34m(\u001b[0m\u001b[0mnp\u001b[0m\u001b[0;34m.\u001b[0m\u001b[0mlog2\u001b[0m\u001b[0;34m(\u001b[0m\u001b[0;36m360\u001b[0m \u001b[0;34m*\u001b[0m \u001b[0;36m2.0\u001b[0m \u001b[0;34m/\u001b[0m \u001b[0mlat_length\u001b[0m\u001b[0;34m)\u001b[0m\u001b[0;34m)\u001b[0m\u001b[0;34m\u001b[0m\u001b[0;34m\u001b[0m\u001b[0m\n\u001b[1;32m    585\u001b[0m     \u001b[0mzoom\u001b[0m \u001b[0;34m=\u001b[0m \u001b[0mnp\u001b[0m\u001b[0;34m.\u001b[0m\u001b[0mmax\u001b[0m\u001b[0;34m(\u001b[0m\u001b[0;34m[\u001b[0m\u001b[0mzoom_lon\u001b[0m\u001b[0;34m,\u001b[0m \u001b[0mzoom_lat\u001b[0m\u001b[0;34m]\u001b[0m\u001b[0;34m)\u001b[0m\u001b[0;34m\u001b[0m\u001b[0;34m\u001b[0m\u001b[0m\n\u001b[0;32m--> 586\u001b[0;31m     \u001b[0;32mreturn\u001b[0m \u001b[0mint\u001b[0m\u001b[0;34m(\u001b[0m\u001b[0mzoom\u001b[0m\u001b[0;34m)\u001b[0m\u001b[0;34m\u001b[0m\u001b[0;34m\u001b[0m\u001b[0m\n\u001b[0m\u001b[1;32m    587\u001b[0m \u001b[0;34m\u001b[0m\u001b[0m\n\u001b[1;32m    588\u001b[0m \u001b[0;34m\u001b[0m\u001b[0m\n",
      "\u001b[0;31mValueError\u001b[0m: cannot convert float NaN to integer"
     ]
    },
    {
     "data": {
      "image/png": "[encoded data removed]",
      "text/plain": [
       "<Figure size 576x576 with 3 Axes>"
      ]
     },
     "metadata": {
      "needs_background": "light"
     },
     "output_type": "display_data"
    }
   ],
   "source": [
    "g = sns.jointplot(data = sr,\n",
    "              x='x', \n",
    "              y='y', \n",
    "              kind='kde',\n",
    "              height=8, # make the map bigger\n",
    "              bw_method=0.1,\n",
    "              weights= sr['ridership'],\n",
    "              fill=True\n",
    "              #xlim=(4501300.15,  4537149.12),\n",
    "              #ylim=(14113715.08, 14161258.91)\n",
    "                 )\n",
    "#sns.color_palette(\"ch:s=-.2,r=.6\", as_cmap=True)\n",
    "# add basemap\n",
    "ctx.add_basemap(g.ax_joint,\n",
    "                crs='epsg:4326')\n",
    "\n",
    "# Clean axes\n",
    "g.ax_joint.set_axis_off()"
   ]
  },
  {
   "cell_type": "markdown",
   "id": "green-floating",
   "metadata": {},
   "source": [
    "This shows that Gangnam province has the highest KDE when weighted the density by ridership. There are about 6 regions that has the darkest blue in Seoul, but among the 6 areas, gangnam has the largest area that has darkest blue. This means that at Gangnam, not only one station has a high ridership, but also a few stations around Gangnam also has relatively high railway ridership."
   ]
  },
  {
   "cell_type": "markdown",
   "id": "inside-belarus",
   "metadata": {},
   "source": [
    "--This is the end of the notebook. This was created by Shinah. Audrey will show the job density analysis in another notebook.--"
   ]
  },
  {
   "cell_type": "code",
   "execution_count": null,
   "id": "worst-china",
   "metadata": {},
   "outputs": [],
   "source": []
  }
 ],
 "metadata": {
  "kernelspec": {
   "display_name": "Python 3",
   "language": "python",
   "name": "python3"
  },
  "language_info": {
   "codemirror_mode": {
    "name": "ipython",
    "version": 3
   },
   "file_extension": ".py",
   "mimetype": "text/x-python",
   "name": "python",
   "nbconvert_exporter": "python",
   "pygments_lexer": "ipython3",
   "version": "3.8.5"
  },
  "toc": {
   "base_numbering": 1,
   "nav_menu": {},
   "number_sections": true,
   "sideBar": true,
   "skip_h1_title": false,
   "title_cell": "Table of Contents",
   "title_sidebar": "Contents",
   "toc_cell": false,
   "toc_position": {},
   "toc_section_display": true,
   "toc_window_display": false
  }
 },
 "nbformat": 4,
 "nbformat_minor": 5
}
