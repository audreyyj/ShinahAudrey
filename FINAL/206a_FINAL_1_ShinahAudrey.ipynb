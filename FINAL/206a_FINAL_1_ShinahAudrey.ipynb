{
 "cells": [
  {
   "cell_type": "markdown",
   "metadata": {},
   "source": [
    "## 206a_FINAL_1_ShinahAudrey\n",
    "Hi! This is Shinah. In this notebook, I will clean and organize all the dataset that will be used in the following notebooks and export them as geojson files. Operations I do in this notebook include dropping unnecessary columns, joining two files, changing data tytes to numeric, normalizing data by dividing data by total number or area and exporting each file to geojson.   \n",
    "\n",
    "Dataset used:    \n",
    "•LA County : population census data, jobs OnTheMap data, commute mode census data, rail ridership data.    \n",
    "•Seoul :  population census data, number of workers(jobs) census data, commute mode census data, and rail ridership data."
   ]
  },
  {
   "cell_type": "markdown",
   "metadata": {},
   "source": [
    "### Cleaning dataset for LA"
   ]
  },
  {
   "cell_type": "markdown",
   "metadata": {},
   "source": [
    "Import libraries"
   ]
  },
  {
   "cell_type": "code",
   "execution_count": 1,
   "metadata": {},
   "outputs": [
    {
     "name": "stderr",
     "output_type": "stream",
     "text": [
      "/opt/conda/lib/python3.8/site-packages/geopandas/_compat.py:106: UserWarning: The Shapely GEOS version (3.8.1-CAPI-1.13.3) is incompatible with the GEOS version PyGEOS was compiled with (3.9.0-CAPI-1.16.2). Conversions between both will be slow.\n",
      "  warnings.warn(\n"
     ]
    }
   ],
   "source": [
    "import pandas as pd\n",
    "import geopandas as gpd\n",
    "import contextily as ctx\n",
    "import matplotlib.pyplot as plt"
   ]
  },
  {
   "cell_type": "markdown",
   "metadata": {},
   "source": [
    "Import population data"
   ]
  },
  {
   "cell_type": "code",
   "execution_count": 2,
   "metadata": {},
   "outputs": [],
   "source": [
    "LA_pop = gpd.read_file('data/acs2019_5yr_B03002_14000US06037534001.geojson')"
   ]
  },
  {
   "cell_type": "markdown",
   "metadata": {},
   "source": [
    "Dropping the first row because it skews the whole dataset."
   ]
  },
  {
   "cell_type": "code",
   "execution_count": 3,
   "metadata": {},
   "outputs": [],
   "source": [
    "LA_pop = LA_pop.drop([0])"
   ]
  },
  {
   "cell_type": "markdown",
   "metadata": {},
   "source": [
    "Make a list of columns to keep"
   ]
  },
  {
   "cell_type": "code",
   "execution_count": 4,
   "metadata": {},
   "outputs": [],
   "source": [
    "LA_pop_columnstokeep = ['geoid', 'name', 'B03002001', 'geometry']"
   ]
  },
  {
   "cell_type": "markdown",
   "metadata": {},
   "source": [
    "Drop columns"
   ]
  },
  {
   "cell_type": "code",
   "execution_count": 5,
   "metadata": {},
   "outputs": [],
   "source": [
    "LA_pop = LA_pop[LA_pop_columnstokeep]"
   ]
  },
  {
   "cell_type": "markdown",
   "metadata": {},
   "source": [
    "Rename columns"
   ]
  },
  {
   "cell_type": "code",
   "execution_count": 6,
   "metadata": {},
   "outputs": [],
   "source": [
    "LA_pop.columns = ['geoid', 'name', 'population', 'geometry']"
   ]
  },
  {
   "cell_type": "markdown",
   "metadata": {},
   "source": [
    "For some reason this dataset is in France CRS so reprojecting: "
   ]
  },
  {
   "cell_type": "code",
   "execution_count": 7,
   "metadata": {},
   "outputs": [],
   "source": [
    "LA_pop = LA_pop.to_crs(epsg=3857)"
   ]
  },
  {
   "cell_type": "markdown",
   "metadata": {},
   "source": [
    "Calculating LA population Density"
   ]
  },
  {
   "cell_type": "code",
   "execution_count": 8,
   "metadata": {},
   "outputs": [],
   "source": [
    "#First calculate area in new column\n",
    "LA_pop['area'] = LA_pop['geometry'].area"
   ]
  },
  {
   "cell_type": "code",
   "execution_count": 9,
   "metadata": {},
   "outputs": [],
   "source": [
    "#Then calculate population density in new column\n",
    "LA_pop['pop_density'] = LA_pop['population']/LA_pop['area']"
   ]
  },
  {
   "cell_type": "code",
   "execution_count": 10,
   "metadata": {},
   "outputs": [
    {
     "data": {
      "text/html": [
       "<div>\n",
       "<style scoped>\n",
       "    .dataframe tbody tr th:only-of-type {\n",
       "        vertical-align: middle;\n",
       "    }\n",
       "\n",
       "    .dataframe tbody tr th {\n",
       "        vertical-align: top;\n",
       "    }\n",
       "\n",
       "    .dataframe thead th {\n",
       "        text-align: right;\n",
       "    }\n",
       "</style>\n",
       "<table border=\"1\" class=\"dataframe\">\n",
       "  <thead>\n",
       "    <tr style=\"text-align: right;\">\n",
       "      <th></th>\n",
       "      <th>geoid</th>\n",
       "      <th>name</th>\n",
       "      <th>population</th>\n",
       "      <th>geometry</th>\n",
       "      <th>area</th>\n",
       "      <th>pop_density</th>\n",
       "    </tr>\n",
       "  </thead>\n",
       "  <tbody>\n",
       "    <tr>\n",
       "      <th>1</th>\n",
       "      <td>14000US06037101110</td>\n",
       "      <td>Census Tract 1011.10, Los Angeles, CA</td>\n",
       "      <td>4283.0</td>\n",
       "      <td>MULTIPOLYGON (((-13169350.794 4063591.834, -13...</td>\n",
       "      <td>1.676518e+06</td>\n",
       "      <td>0.002555</td>\n",
       "    </tr>\n",
       "    <tr>\n",
       "      <th>2</th>\n",
       "      <td>14000US06037101122</td>\n",
       "      <td>Census Tract 1011.22, Los Angeles, CA</td>\n",
       "      <td>3405.0</td>\n",
       "      <td>MULTIPOLYGON (((-13169467.902 4065613.937, -13...</td>\n",
       "      <td>3.880999e+06</td>\n",
       "      <td>0.000877</td>\n",
       "    </tr>\n",
       "    <tr>\n",
       "      <th>3</th>\n",
       "      <td>14000US06037101210</td>\n",
       "      <td>Census Tract 1012.10, Los Angeles, CA</td>\n",
       "      <td>6347.0</td>\n",
       "      <td>MULTIPOLYGON (((-13169034.646 4063225.625, -13...</td>\n",
       "      <td>9.547673e+05</td>\n",
       "      <td>0.006648</td>\n",
       "    </tr>\n",
       "    <tr>\n",
       "      <th>4</th>\n",
       "      <td>14000US06037101220</td>\n",
       "      <td>Census Tract 1012.20, Los Angeles, CA</td>\n",
       "      <td>3702.0</td>\n",
       "      <td>MULTIPOLYGON (((-13167528.939 4062726.771, -13...</td>\n",
       "      <td>1.025452e+06</td>\n",
       "      <td>0.003610</td>\n",
       "    </tr>\n",
       "    <tr>\n",
       "      <th>5</th>\n",
       "      <td>14000US06037101300</td>\n",
       "      <td>Census Tract 1013, Los Angeles, CA</td>\n",
       "      <td>3884.0</td>\n",
       "      <td>MULTIPOLYGON (((-13166671.668 4062511.964, -13...</td>\n",
       "      <td>3.787079e+06</td>\n",
       "      <td>0.001026</td>\n",
       "    </tr>\n",
       "  </tbody>\n",
       "</table>\n",
       "</div>"
      ],
      "text/plain": [
       "                geoid                                   name  population  \\\n",
       "1  14000US06037101110  Census Tract 1011.10, Los Angeles, CA      4283.0   \n",
       "2  14000US06037101122  Census Tract 1011.22, Los Angeles, CA      3405.0   \n",
       "3  14000US06037101210  Census Tract 1012.10, Los Angeles, CA      6347.0   \n",
       "4  14000US06037101220  Census Tract 1012.20, Los Angeles, CA      3702.0   \n",
       "5  14000US06037101300     Census Tract 1013, Los Angeles, CA      3884.0   \n",
       "\n",
       "                                            geometry          area  \\\n",
       "1  MULTIPOLYGON (((-13169350.794 4063591.834, -13...  1.676518e+06   \n",
       "2  MULTIPOLYGON (((-13169467.902 4065613.937, -13...  3.880999e+06   \n",
       "3  MULTIPOLYGON (((-13169034.646 4063225.625, -13...  9.547673e+05   \n",
       "4  MULTIPOLYGON (((-13167528.939 4062726.771, -13...  1.025452e+06   \n",
       "5  MULTIPOLYGON (((-13166671.668 4062511.964, -13...  3.787079e+06   \n",
       "\n",
       "   pop_density  \n",
       "1     0.002555  \n",
       "2     0.000877  \n",
       "3     0.006648  \n",
       "4     0.003610  \n",
       "5     0.001026  "
      ]
     },
     "execution_count": 10,
     "metadata": {},
     "output_type": "execute_result"
    }
   ],
   "source": [
    "LA_pop.head()"
   ]
  },
  {
   "cell_type": "markdown",
   "metadata": {},
   "source": [
    "Import job data"
   ]
  },
  {
   "cell_type": "code",
   "execution_count": 11,
   "metadata": {},
   "outputs": [],
   "source": [
    "LA_jobs = gpd.read_file('data/points_2018.shp')"
   ]
  },
  {
   "cell_type": "code",
   "execution_count": 12,
   "metadata": {},
   "outputs": [
    {
     "data": {
      "text/plain": [
       "(63568, 43)"
      ]
     },
     "execution_count": 12,
     "metadata": {},
     "output_type": "execute_result"
    }
   ],
   "source": [
    "LA_jobs.shape"
   ]
  },
  {
   "cell_type": "code",
   "execution_count": 13,
   "metadata": {},
   "outputs": [
    {
     "data": {
      "text/html": [
       "<div>\n",
       "<style scoped>\n",
       "    .dataframe tbody tr th:only-of-type {\n",
       "        vertical-align: middle;\n",
       "    }\n",
       "\n",
       "    .dataframe tbody tr th {\n",
       "        vertical-align: top;\n",
       "    }\n",
       "\n",
       "    .dataframe thead th {\n",
       "        text-align: right;\n",
       "    }\n",
       "</style>\n",
       "<table border=\"1\" class=\"dataframe\">\n",
       "  <thead>\n",
       "    <tr style=\"text-align: right;\">\n",
       "      <th></th>\n",
       "      <th>id</th>\n",
       "      <th>c000</th>\n",
       "      <th>ca01</th>\n",
       "      <th>ca02</th>\n",
       "      <th>ca03</th>\n",
       "      <th>ce01</th>\n",
       "      <th>ce02</th>\n",
       "      <th>ce03</th>\n",
       "      <th>cns01</th>\n",
       "      <th>cns02</th>\n",
       "      <th>...</th>\n",
       "      <th>cr07</th>\n",
       "      <th>ct01</th>\n",
       "      <th>ct02</th>\n",
       "      <th>cd01</th>\n",
       "      <th>cd02</th>\n",
       "      <th>cd03</th>\n",
       "      <th>cd04</th>\n",
       "      <th>cg01</th>\n",
       "      <th>cg02</th>\n",
       "      <th>geometry</th>\n",
       "    </tr>\n",
       "  </thead>\n",
       "  <tbody>\n",
       "    <tr>\n",
       "      <th>0</th>\n",
       "      <td>060374600003006</td>\n",
       "      <td>12.0</td>\n",
       "      <td>3.0</td>\n",
       "      <td>3.0</td>\n",
       "      <td>6.0</td>\n",
       "      <td>0.0</td>\n",
       "      <td>8.0</td>\n",
       "      <td>4.0</td>\n",
       "      <td>0.0</td>\n",
       "      <td>0.0</td>\n",
       "      <td>...</td>\n",
       "      <td>0.0</td>\n",
       "      <td>10.0</td>\n",
       "      <td>2.0</td>\n",
       "      <td>0.0</td>\n",
       "      <td>4.0</td>\n",
       "      <td>3.0</td>\n",
       "      <td>2.0</td>\n",
       "      <td>7.0</td>\n",
       "      <td>5.0</td>\n",
       "      <td>POINT (-2001134.000 -138945.141)</td>\n",
       "    </tr>\n",
       "    <tr>\n",
       "      <th>1</th>\n",
       "      <td>060374300025013</td>\n",
       "      <td>3.0</td>\n",
       "      <td>0.0</td>\n",
       "      <td>3.0</td>\n",
       "      <td>0.0</td>\n",
       "      <td>2.0</td>\n",
       "      <td>1.0</td>\n",
       "      <td>0.0</td>\n",
       "      <td>0.0</td>\n",
       "      <td>0.0</td>\n",
       "      <td>...</td>\n",
       "      <td>0.0</td>\n",
       "      <td>2.0</td>\n",
       "      <td>1.0</td>\n",
       "      <td>1.0</td>\n",
       "      <td>1.0</td>\n",
       "      <td>1.0</td>\n",
       "      <td>0.0</td>\n",
       "      <td>1.0</td>\n",
       "      <td>2.0</td>\n",
       "      <td>POINT (-1991025.125 -145032.016)</td>\n",
       "    </tr>\n",
       "    <tr>\n",
       "      <th>2</th>\n",
       "      <td>060374300025015</td>\n",
       "      <td>1.0</td>\n",
       "      <td>0.0</td>\n",
       "      <td>1.0</td>\n",
       "      <td>0.0</td>\n",
       "      <td>0.0</td>\n",
       "      <td>1.0</td>\n",
       "      <td>0.0</td>\n",
       "      <td>0.0</td>\n",
       "      <td>0.0</td>\n",
       "      <td>...</td>\n",
       "      <td>0.0</td>\n",
       "      <td>1.0</td>\n",
       "      <td>0.0</td>\n",
       "      <td>0.0</td>\n",
       "      <td>0.0</td>\n",
       "      <td>1.0</td>\n",
       "      <td>0.0</td>\n",
       "      <td>0.0</td>\n",
       "      <td>1.0</td>\n",
       "      <td>POINT (-1991167.125 -145140.297)</td>\n",
       "    </tr>\n",
       "    <tr>\n",
       "      <th>3</th>\n",
       "      <td>060374300025014</td>\n",
       "      <td>21.0</td>\n",
       "      <td>10.0</td>\n",
       "      <td>8.0</td>\n",
       "      <td>3.0</td>\n",
       "      <td>9.0</td>\n",
       "      <td>12.0</td>\n",
       "      <td>0.0</td>\n",
       "      <td>0.0</td>\n",
       "      <td>0.0</td>\n",
       "      <td>...</td>\n",
       "      <td>0.0</td>\n",
       "      <td>10.0</td>\n",
       "      <td>11.0</td>\n",
       "      <td>1.0</td>\n",
       "      <td>2.0</td>\n",
       "      <td>2.0</td>\n",
       "      <td>6.0</td>\n",
       "      <td>12.0</td>\n",
       "      <td>9.0</td>\n",
       "      <td>POINT (-1991184.625 -145096.594)</td>\n",
       "    </tr>\n",
       "    <tr>\n",
       "      <th>4</th>\n",
       "      <td>060374300025021</td>\n",
       "      <td>4.0</td>\n",
       "      <td>0.0</td>\n",
       "      <td>3.0</td>\n",
       "      <td>1.0</td>\n",
       "      <td>4.0</td>\n",
       "      <td>0.0</td>\n",
       "      <td>0.0</td>\n",
       "      <td>0.0</td>\n",
       "      <td>0.0</td>\n",
       "      <td>...</td>\n",
       "      <td>0.0</td>\n",
       "      <td>3.0</td>\n",
       "      <td>1.0</td>\n",
       "      <td>0.0</td>\n",
       "      <td>2.0</td>\n",
       "      <td>2.0</td>\n",
       "      <td>0.0</td>\n",
       "      <td>3.0</td>\n",
       "      <td>1.0</td>\n",
       "      <td>POINT (-1991041.750 -145197.812)</td>\n",
       "    </tr>\n",
       "  </tbody>\n",
       "</table>\n",
       "<p>5 rows × 43 columns</p>\n",
       "</div>"
      ],
      "text/plain": [
       "                id  c000  ca01  ca02  ca03  ce01  ce02  ce03  cns01  cns02  \\\n",
       "0  060374600003006  12.0   3.0   3.0   6.0   0.0   8.0   4.0    0.0    0.0   \n",
       "1  060374300025013   3.0   0.0   3.0   0.0   2.0   1.0   0.0    0.0    0.0   \n",
       "2  060374300025015   1.0   0.0   1.0   0.0   0.0   1.0   0.0    0.0    0.0   \n",
       "3  060374300025014  21.0  10.0   8.0   3.0   9.0  12.0   0.0    0.0    0.0   \n",
       "4  060374300025021   4.0   0.0   3.0   1.0   4.0   0.0   0.0    0.0    0.0   \n",
       "\n",
       "   ...  cr07  ct01  ct02  cd01  cd02  cd03  cd04  cg01  cg02  \\\n",
       "0  ...   0.0  10.0   2.0   0.0   4.0   3.0   2.0   7.0   5.0   \n",
       "1  ...   0.0   2.0   1.0   1.0   1.0   1.0   0.0   1.0   2.0   \n",
       "2  ...   0.0   1.0   0.0   0.0   0.0   1.0   0.0   0.0   1.0   \n",
       "3  ...   0.0  10.0  11.0   1.0   2.0   2.0   6.0  12.0   9.0   \n",
       "4  ...   0.0   3.0   1.0   0.0   2.0   2.0   0.0   3.0   1.0   \n",
       "\n",
       "                           geometry  \n",
       "0  POINT (-2001134.000 -138945.141)  \n",
       "1  POINT (-1991025.125 -145032.016)  \n",
       "2  POINT (-1991167.125 -145140.297)  \n",
       "3  POINT (-1991184.625 -145096.594)  \n",
       "4  POINT (-1991041.750 -145197.812)  \n",
       "\n",
       "[5 rows x 43 columns]"
      ]
     },
     "execution_count": 13,
     "metadata": {},
     "output_type": "execute_result"
    }
   ],
   "source": [
    "LA_jobs.head()"
   ]
  },
  {
   "cell_type": "markdown",
   "metadata": {},
   "source": [
    "Drop unnecessary columns "
   ]
  },
  {
   "cell_type": "code",
   "execution_count": 14,
   "metadata": {},
   "outputs": [],
   "source": [
    "keep_job_columns = ['id',\n",
    " 'c000',\n",
    " 'geometry']"
   ]
  },
  {
   "cell_type": "code",
   "execution_count": 15,
   "metadata": {},
   "outputs": [],
   "source": [
    "LA_jobs = LA_jobs[keep_job_columns]"
   ]
  },
  {
   "cell_type": "markdown",
   "metadata": {},
   "source": [
    "Rename columns"
   ]
  },
  {
   "cell_type": "code",
   "execution_count": 16,
   "metadata": {},
   "outputs": [],
   "source": [
    "LA_jobs.columns = ['GEOID', 'Job Count', 'geometry']"
   ]
  },
  {
   "cell_type": "code",
   "execution_count": 17,
   "metadata": {},
   "outputs": [],
   "source": [
    "LA_jobs = LA_jobs.to_crs(epsg=3857)"
   ]
  },
  {
   "cell_type": "markdown",
   "metadata": {},
   "source": [
    "It is good to have the population and jobs layers in an identical coordinate reference systems. Convert jobs later to Web Mercator: "
   ]
  },
  {
   "cell_type": "code",
   "execution_count": 18,
   "metadata": {},
   "outputs": [
    {
     "data": {
      "text/plain": [
       "<Projected CRS: EPSG:3857>\n",
       "Name: WGS 84 / Pseudo-Mercator\n",
       "Axis Info [cartesian]:\n",
       "- X[east]: Easting (metre)\n",
       "- Y[north]: Northing (metre)\n",
       "Area of Use:\n",
       "- name: World - 85°S to 85°N\n",
       "- bounds: (-180.0, -85.06, 180.0, 85.06)\n",
       "Coordinate Operation:\n",
       "- name: Popular Visualisation Pseudo-Mercator\n",
       "- method: Popular Visualisation Pseudo Mercator\n",
       "Datum: World Geodetic System 1984\n",
       "- Ellipsoid: WGS 84\n",
       "- Prime Meridian: Greenwich"
      ]
     },
     "execution_count": 18,
     "metadata": {},
     "output_type": "execute_result"
    }
   ],
   "source": [
    "LA_jobs.crs"
   ]
  },
  {
   "cell_type": "markdown",
   "metadata": {
    "slideshow": {
     "slide_type": "slide"
    }
   },
   "source": [
    "Import commute data"
   ]
  },
  {
   "cell_type": "code",
   "execution_count": 19,
   "metadata": {},
   "outputs": [],
   "source": [
    "LA_com = gpd.read_file('data/acs2019_5yr_B08006_14000US06037534001.geojson')"
   ]
  },
  {
   "cell_type": "markdown",
   "metadata": {},
   "source": [
    "Dropping the first row to avoid skew"
   ]
  },
  {
   "cell_type": "code",
   "execution_count": 20,
   "metadata": {},
   "outputs": [],
   "source": [
    "LA_com = LA_com.drop([0])"
   ]
  },
  {
   "cell_type": "markdown",
   "metadata": {},
   "source": [
    "I checked the metadata and selected some columns that I want to keep.   \n",
    "•'geoid':geoid of the census tract   \n",
    "•'name':name of the census tract   \n",
    "•'B08006001' : Total   \n",
    "•'B08006002' : Car, truck, or van   \n",
    "•'B08006008' : Public transportation (excluding taxicab)   \n",
    "•'geometry' : long lat coordinates   "
   ]
  },
  {
   "cell_type": "code",
   "execution_count": 21,
   "metadata": {},
   "outputs": [],
   "source": [
    "LA_com_columnstokeep = ['geoid', 'name', 'B08006001', 'B08006002', 'B08006008', 'geometry']"
   ]
  },
  {
   "cell_type": "code",
   "execution_count": 22,
   "metadata": {},
   "outputs": [],
   "source": [
    "LA_com = LA_com[LA_com_columnstokeep]"
   ]
  },
  {
   "cell_type": "markdown",
   "metadata": {},
   "source": [
    "Renaming the columns"
   ]
  },
  {
   "cell_type": "code",
   "execution_count": 23,
   "metadata": {},
   "outputs": [],
   "source": [
    "LA_com.columns = ['geoid', 'Name', 'Total', 'Car, truck, or van', 'Public transportation (excluding taxicab)','geometry']"
   ]
  },
  {
   "cell_type": "markdown",
   "metadata": {},
   "source": [
    "The raw data itself is less meaningful than looking at the percent share within each census tracts. So I divide the columns by the total number of commute trips.`"
   ]
  },
  {
   "cell_type": "code",
   "execution_count": 24,
   "metadata": {},
   "outputs": [],
   "source": [
    "LA_com['Percent Car, truck, or van'] = LA_com['Car, truck, or van']/LA_com['Total']*100\n",
    "LA_com['Percent Public transportation (excluding taxicab)'] = LA_com['Public transportation (excluding taxicab)']/LA_com['Total']*100"
   ]
  },
  {
   "cell_type": "code",
   "execution_count": 25,
   "metadata": {},
   "outputs": [
    {
     "data": {
      "text/html": [
       "<div>\n",
       "<style scoped>\n",
       "    .dataframe tbody tr th:only-of-type {\n",
       "        vertical-align: middle;\n",
       "    }\n",
       "\n",
       "    .dataframe tbody tr th {\n",
       "        vertical-align: top;\n",
       "    }\n",
       "\n",
       "    .dataframe thead th {\n",
       "        text-align: right;\n",
       "    }\n",
       "</style>\n",
       "<table border=\"1\" class=\"dataframe\">\n",
       "  <thead>\n",
       "    <tr style=\"text-align: right;\">\n",
       "      <th></th>\n",
       "      <th>geoid</th>\n",
       "      <th>Name</th>\n",
       "      <th>Total</th>\n",
       "      <th>Car, truck, or van</th>\n",
       "      <th>Public transportation (excluding taxicab)</th>\n",
       "      <th>geometry</th>\n",
       "      <th>Percent Car, truck, or van</th>\n",
       "      <th>Percent Public transportation (excluding taxicab)</th>\n",
       "    </tr>\n",
       "  </thead>\n",
       "  <tbody>\n",
       "    <tr>\n",
       "      <th>1</th>\n",
       "      <td>14000US06037101110</td>\n",
       "      <td>Census Tract 1011.10, Los Angeles, CA</td>\n",
       "      <td>2027.0</td>\n",
       "      <td>1860.0</td>\n",
       "      <td>59.0</td>\n",
       "      <td>MULTIPOLYGON (((-118.30229 34.25870, -118.3009...</td>\n",
       "      <td>91.761223</td>\n",
       "      <td>2.910705</td>\n",
       "    </tr>\n",
       "    <tr>\n",
       "      <th>2</th>\n",
       "      <td>14000US06037101122</td>\n",
       "      <td>Census Tract 1011.22, Los Angeles, CA</td>\n",
       "      <td>1834.0</td>\n",
       "      <td>1730.0</td>\n",
       "      <td>9.0</td>\n",
       "      <td>MULTIPOLYGON (((-118.30334 34.27371, -118.3033...</td>\n",
       "      <td>94.329335</td>\n",
       "      <td>0.490731</td>\n",
       "    </tr>\n",
       "    <tr>\n",
       "      <th>3</th>\n",
       "      <td>14000US06037101210</td>\n",
       "      <td>Census Tract 1012.10, Los Angeles, CA</td>\n",
       "      <td>3057.0</td>\n",
       "      <td>2699.0</td>\n",
       "      <td>68.0</td>\n",
       "      <td>MULTIPOLYGON (((-118.29945 34.25598, -118.2979...</td>\n",
       "      <td>88.289172</td>\n",
       "      <td>2.224403</td>\n",
       "    </tr>\n",
       "    <tr>\n",
       "      <th>4</th>\n",
       "      <td>14000US06037101220</td>\n",
       "      <td>Census Tract 1012.20, Los Angeles, CA</td>\n",
       "      <td>1593.0</td>\n",
       "      <td>1439.0</td>\n",
       "      <td>48.0</td>\n",
       "      <td>MULTIPOLYGON (((-118.28593 34.25227, -118.2859...</td>\n",
       "      <td>90.332706</td>\n",
       "      <td>3.013183</td>\n",
       "    </tr>\n",
       "    <tr>\n",
       "      <th>5</th>\n",
       "      <td>14000US06037101300</td>\n",
       "      <td>Census Tract 1013, Los Angeles, CA</td>\n",
       "      <td>1782.0</td>\n",
       "      <td>1538.0</td>\n",
       "      <td>26.0</td>\n",
       "      <td>MULTIPOLYGON (((-118.27822 34.25068, -118.2782...</td>\n",
       "      <td>86.307520</td>\n",
       "      <td>1.459035</td>\n",
       "    </tr>\n",
       "  </tbody>\n",
       "</table>\n",
       "</div>"
      ],
      "text/plain": [
       "                geoid                                   Name   Total  \\\n",
       "1  14000US06037101110  Census Tract 1011.10, Los Angeles, CA  2027.0   \n",
       "2  14000US06037101122  Census Tract 1011.22, Los Angeles, CA  1834.0   \n",
       "3  14000US06037101210  Census Tract 1012.10, Los Angeles, CA  3057.0   \n",
       "4  14000US06037101220  Census Tract 1012.20, Los Angeles, CA  1593.0   \n",
       "5  14000US06037101300     Census Tract 1013, Los Angeles, CA  1782.0   \n",
       "\n",
       "   Car, truck, or van  Public transportation (excluding taxicab)  \\\n",
       "1              1860.0                                       59.0   \n",
       "2              1730.0                                        9.0   \n",
       "3              2699.0                                       68.0   \n",
       "4              1439.0                                       48.0   \n",
       "5              1538.0                                       26.0   \n",
       "\n",
       "                                            geometry  \\\n",
       "1  MULTIPOLYGON (((-118.30229 34.25870, -118.3009...   \n",
       "2  MULTIPOLYGON (((-118.30334 34.27371, -118.3033...   \n",
       "3  MULTIPOLYGON (((-118.29945 34.25598, -118.2979...   \n",
       "4  MULTIPOLYGON (((-118.28593 34.25227, -118.2859...   \n",
       "5  MULTIPOLYGON (((-118.27822 34.25068, -118.2782...   \n",
       "\n",
       "   Percent Car, truck, or van  \\\n",
       "1                   91.761223   \n",
       "2                   94.329335   \n",
       "3                   88.289172   \n",
       "4                   90.332706   \n",
       "5                   86.307520   \n",
       "\n",
       "   Percent Public transportation (excluding taxicab)  \n",
       "1                                           2.910705  \n",
       "2                                           0.490731  \n",
       "3                                           2.224403  \n",
       "4                                           3.013183  \n",
       "5                                           1.459035  "
      ]
     },
     "execution_count": 25,
     "metadata": {},
     "output_type": "execute_result"
    }
   ],
   "source": [
    "LA_com.head()"
   ]
  },
  {
   "cell_type": "markdown",
   "metadata": {},
   "source": [
    "Import rail ridership data"
   ]
  },
  {
   "cell_type": "code",
   "execution_count": 26,
   "metadata": {},
   "outputs": [],
   "source": [
    "LA_ride = gpd.read_file('data/zRailLineDirHrStn_FY18_19.csv')"
   ]
  },
  {
   "cell_type": "markdown",
   "metadata": {},
   "source": [
    "Cheking datatype to make sure the values are written in float"
   ]
  },
  {
   "cell_type": "code",
   "execution_count": 27,
   "metadata": {},
   "outputs": [
    {
     "name": "stdout",
     "output_type": "stream",
     "text": [
      "<class 'geopandas.geodataframe.GeoDataFrame'>\n",
      "RangeIndex: 37067 entries, 0 to 37066\n",
      "Data columns (total 13 columns):\n",
      " #   Column              Non-Null Count  Dtype   \n",
      "---  ------              --------------  -----   \n",
      " 0   line                37067 non-null  object  \n",
      " 1   route               37067 non-null  object  \n",
      " 2   SER                 37067 non-null  object  \n",
      " 3   Dir                 37067 non-null  object  \n",
      " 4   stop_id             37067 non-null  object  \n",
      " 5   StationName         37067 non-null  object  \n",
      " 6   tripstarthour       37067 non-null  object  \n",
      " 7   Daily_Boardings     37067 non-null  object  \n",
      " 8   Daily_Alightings    37067 non-null  object  \n",
      " 9   Average_Car_Load    37067 non-null  object  \n",
      " 10  Average_Train_Load  37067 non-null  object  \n",
      " 11  FY                  37067 non-null  object  \n",
      " 12  geometry            0 non-null      geometry\n",
      "dtypes: geometry(1), object(12)\n",
      "memory usage: 3.7+ MB\n"
     ]
    }
   ],
   "source": [
    "LA_ride.info()"
   ]
  },
  {
   "cell_type": "markdown",
   "metadata": {},
   "source": [
    "I need to change datatype of columns I am interested in."
   ]
  },
  {
   "cell_type": "code",
   "execution_count": 28,
   "metadata": {},
   "outputs": [
    {
     "name": "stdout",
     "output_type": "stream",
     "text": [
      "<class 'geopandas.geodataframe.GeoDataFrame'>\n",
      "RangeIndex: 37067 entries, 0 to 37066\n",
      "Data columns (total 13 columns):\n",
      " #   Column              Non-Null Count  Dtype   \n",
      "---  ------              --------------  -----   \n",
      " 0   line                37067 non-null  object  \n",
      " 1   route               37067 non-null  object  \n",
      " 2   SER                 37067 non-null  object  \n",
      " 3   Dir                 37067 non-null  object  \n",
      " 4   stop_id             37067 non-null  object  \n",
      " 5   StationName         37067 non-null  object  \n",
      " 6   tripstarthour       37067 non-null  object  \n",
      " 7   Daily_Boardings     27848 non-null  float32 \n",
      " 8   Daily_Alightings    27848 non-null  float32 \n",
      " 9   Average_Car_Load    27848 non-null  float32 \n",
      " 10  Average_Train_Load  27848 non-null  float32 \n",
      " 11  FY                  37067 non-null  object  \n",
      " 12  geometry            0 non-null      geometry\n",
      "dtypes: float32(4), geometry(1), object(8)\n",
      "memory usage: 3.1+ MB\n"
     ]
    }
   ],
   "source": [
    "LA_ride[\"Daily_Boardings\"] = pd.to_numeric(LA_ride[\"Daily_Boardings\"], downcast=\"float\")\n",
    "LA_ride[\"Daily_Alightings\"] = pd.to_numeric(LA_ride[\"Daily_Alightings\"], downcast=\"float\")\n",
    "LA_ride[\"Average_Car_Load\"] = pd.to_numeric(LA_ride[\"Average_Car_Load\"], downcast=\"float\")\n",
    "LA_ride[\"Average_Train_Load\"] = pd.to_numeric(LA_ride[\"Average_Train_Load\"], downcast=\"float\")\n",
    "\n",
    "LA_ride.info()"
   ]
  },
  {
   "cell_type": "code",
   "execution_count": 29,
   "metadata": {},
   "outputs": [
    {
     "data": {
      "text/html": [
       "<div>\n",
       "<style scoped>\n",
       "    .dataframe tbody tr th:only-of-type {\n",
       "        vertical-align: middle;\n",
       "    }\n",
       "\n",
       "    .dataframe tbody tr th {\n",
       "        vertical-align: top;\n",
       "    }\n",
       "\n",
       "    .dataframe thead th {\n",
       "        text-align: right;\n",
       "    }\n",
       "</style>\n",
       "<table border=\"1\" class=\"dataframe\">\n",
       "  <thead>\n",
       "    <tr style=\"text-align: right;\">\n",
       "      <th></th>\n",
       "      <th>line</th>\n",
       "      <th>route</th>\n",
       "      <th>SER</th>\n",
       "      <th>Dir</th>\n",
       "      <th>stop_id</th>\n",
       "      <th>StationName</th>\n",
       "      <th>tripstarthour</th>\n",
       "      <th>Daily_Boardings</th>\n",
       "      <th>Daily_Alightings</th>\n",
       "      <th>Average_Car_Load</th>\n",
       "      <th>Average_Train_Load</th>\n",
       "      <th>FY</th>\n",
       "      <th>geometry</th>\n",
       "    </tr>\n",
       "  </thead>\n",
       "  <tbody>\n",
       "    <tr>\n",
       "      <th>33627</th>\n",
       "      <td>802</td>\n",
       "      <td>802</td>\n",
       "      <td>DX</td>\n",
       "      <td>W</td>\n",
       "      <td>80214</td>\n",
       "      <td>Union Station - Metro Red &amp; Purple Lines</td>\n",
       "      <td>7</td>\n",
       "      <td>2122.264648</td>\n",
       "      <td>0.0</td>\n",
       "      <td>59.0</td>\n",
       "      <td>355.0</td>\n",
       "      <td>FY19</td>\n",
       "      <td>None</td>\n",
       "    </tr>\n",
       "    <tr>\n",
       "      <th>29906</th>\n",
       "      <td>802</td>\n",
       "      <td>802</td>\n",
       "      <td>DX</td>\n",
       "      <td>W</td>\n",
       "      <td>80214</td>\n",
       "      <td>Union Station - Metro Red &amp; Purple Lines</td>\n",
       "      <td>8</td>\n",
       "      <td>2112.641602</td>\n",
       "      <td>0.0</td>\n",
       "      <td>56.0</td>\n",
       "      <td>335.0</td>\n",
       "      <td>FY18</td>\n",
       "      <td>None</td>\n",
       "    </tr>\n",
       "    <tr>\n",
       "      <th>33628</th>\n",
       "      <td>802</td>\n",
       "      <td>802</td>\n",
       "      <td>DX</td>\n",
       "      <td>W</td>\n",
       "      <td>80214</td>\n",
       "      <td>Union Station - Metro Red &amp; Purple Lines</td>\n",
       "      <td>8</td>\n",
       "      <td>2109.553223</td>\n",
       "      <td>0.0</td>\n",
       "      <td>56.0</td>\n",
       "      <td>338.0</td>\n",
       "      <td>FY19</td>\n",
       "      <td>None</td>\n",
       "    </tr>\n",
       "    <tr>\n",
       "      <th>29905</th>\n",
       "      <td>802</td>\n",
       "      <td>802</td>\n",
       "      <td>DX</td>\n",
       "      <td>W</td>\n",
       "      <td>80214</td>\n",
       "      <td>Union Station - Metro Red &amp; Purple Lines</td>\n",
       "      <td>7</td>\n",
       "      <td>2106.920654</td>\n",
       "      <td>0.0</td>\n",
       "      <td>59.0</td>\n",
       "      <td>355.0</td>\n",
       "      <td>FY18</td>\n",
       "      <td>None</td>\n",
       "    </tr>\n",
       "    <tr>\n",
       "      <th>20516</th>\n",
       "      <td>801</td>\n",
       "      <td>801</td>\n",
       "      <td>DX</td>\n",
       "      <td>S</td>\n",
       "      <td>80122</td>\n",
       "      <td>7th Street / Metro Center Station - Metro Blue...</td>\n",
       "      <td>17</td>\n",
       "      <td>2004.324341</td>\n",
       "      <td>0.0</td>\n",
       "      <td>65.0</td>\n",
       "      <td>196.0</td>\n",
       "      <td>FY18</td>\n",
       "      <td>None</td>\n",
       "    </tr>\n",
       "    <tr>\n",
       "      <th>...</th>\n",
       "      <td>...</td>\n",
       "      <td>...</td>\n",
       "      <td>...</td>\n",
       "      <td>...</td>\n",
       "      <td>...</td>\n",
       "      <td>...</td>\n",
       "      <td>...</td>\n",
       "      <td>...</td>\n",
       "      <td>...</td>\n",
       "      <td>...</td>\n",
       "      <td>...</td>\n",
       "      <td>...</td>\n",
       "      <td>...</td>\n",
       "    </tr>\n",
       "    <tr>\n",
       "      <th>29623</th>\n",
       "      <td></td>\n",
       "      <td></td>\n",
       "      <td></td>\n",
       "      <td></td>\n",
       "      <td></td>\n",
       "      <td></td>\n",
       "      <td></td>\n",
       "      <td>NaN</td>\n",
       "      <td>NaN</td>\n",
       "      <td>NaN</td>\n",
       "      <td>NaN</td>\n",
       "      <td></td>\n",
       "      <td>None</td>\n",
       "    </tr>\n",
       "    <tr>\n",
       "      <th>29624</th>\n",
       "      <td></td>\n",
       "      <td></td>\n",
       "      <td></td>\n",
       "      <td></td>\n",
       "      <td></td>\n",
       "      <td></td>\n",
       "      <td></td>\n",
       "      <td>NaN</td>\n",
       "      <td>NaN</td>\n",
       "      <td>NaN</td>\n",
       "      <td>NaN</td>\n",
       "      <td></td>\n",
       "      <td>None</td>\n",
       "    </tr>\n",
       "    <tr>\n",
       "      <th>29625</th>\n",
       "      <td></td>\n",
       "      <td></td>\n",
       "      <td></td>\n",
       "      <td></td>\n",
       "      <td></td>\n",
       "      <td></td>\n",
       "      <td></td>\n",
       "      <td>NaN</td>\n",
       "      <td>NaN</td>\n",
       "      <td>NaN</td>\n",
       "      <td>NaN</td>\n",
       "      <td></td>\n",
       "      <td>None</td>\n",
       "    </tr>\n",
       "    <tr>\n",
       "      <th>29626</th>\n",
       "      <td></td>\n",
       "      <td></td>\n",
       "      <td></td>\n",
       "      <td></td>\n",
       "      <td></td>\n",
       "      <td></td>\n",
       "      <td></td>\n",
       "      <td>NaN</td>\n",
       "      <td>NaN</td>\n",
       "      <td>NaN</td>\n",
       "      <td>NaN</td>\n",
       "      <td></td>\n",
       "      <td>None</td>\n",
       "    </tr>\n",
       "    <tr>\n",
       "      <th>29627</th>\n",
       "      <td></td>\n",
       "      <td></td>\n",
       "      <td></td>\n",
       "      <td></td>\n",
       "      <td></td>\n",
       "      <td></td>\n",
       "      <td></td>\n",
       "      <td>NaN</td>\n",
       "      <td>NaN</td>\n",
       "      <td>NaN</td>\n",
       "      <td>NaN</td>\n",
       "      <td></td>\n",
       "      <td>None</td>\n",
       "    </tr>\n",
       "  </tbody>\n",
       "</table>\n",
       "<p>37067 rows × 13 columns</p>\n",
       "</div>"
      ],
      "text/plain": [
       "      line route SER Dir stop_id  \\\n",
       "33627  802   802  DX   W   80214   \n",
       "29906  802   802  DX   W   80214   \n",
       "33628  802   802  DX   W   80214   \n",
       "29905  802   802  DX   W   80214   \n",
       "20516  801   801  DX   S   80122   \n",
       "...    ...   ...  ..  ..     ...   \n",
       "29623                              \n",
       "29624                              \n",
       "29625                              \n",
       "29626                              \n",
       "29627                              \n",
       "\n",
       "                                             StationName tripstarthour  \\\n",
       "33627           Union Station - Metro Red & Purple Lines             7   \n",
       "29906           Union Station - Metro Red & Purple Lines             8   \n",
       "33628           Union Station - Metro Red & Purple Lines             8   \n",
       "29905           Union Station - Metro Red & Purple Lines             7   \n",
       "20516  7th Street / Metro Center Station - Metro Blue...            17   \n",
       "...                                                  ...           ...   \n",
       "29623                                                                    \n",
       "29624                                                                    \n",
       "29625                                                                    \n",
       "29626                                                                    \n",
       "29627                                                                    \n",
       "\n",
       "       Daily_Boardings  Daily_Alightings  Average_Car_Load  \\\n",
       "33627      2122.264648               0.0              59.0   \n",
       "29906      2112.641602               0.0              56.0   \n",
       "33628      2109.553223               0.0              56.0   \n",
       "29905      2106.920654               0.0              59.0   \n",
       "20516      2004.324341               0.0              65.0   \n",
       "...                ...               ...               ...   \n",
       "29623              NaN               NaN               NaN   \n",
       "29624              NaN               NaN               NaN   \n",
       "29625              NaN               NaN               NaN   \n",
       "29626              NaN               NaN               NaN   \n",
       "29627              NaN               NaN               NaN   \n",
       "\n",
       "       Average_Train_Load    FY geometry  \n",
       "33627               355.0  FY19     None  \n",
       "29906               335.0  FY18     None  \n",
       "33628               338.0  FY19     None  \n",
       "29905               355.0  FY18     None  \n",
       "20516               196.0  FY18     None  \n",
       "...                   ...   ...      ...  \n",
       "29623                 NaN           None  \n",
       "29624                 NaN           None  \n",
       "29625                 NaN           None  \n",
       "29626                 NaN           None  \n",
       "29627                 NaN           None  \n",
       "\n",
       "[37067 rows x 13 columns]"
      ]
     },
     "execution_count": 29,
     "metadata": {},
     "output_type": "execute_result"
    }
   ],
   "source": [
    "LA_ride.sort_values(by=['Daily_Boardings'], ascending = False)"
   ]
  },
  {
   "cell_type": "code",
   "execution_count": 30,
   "metadata": {},
   "outputs": [
    {
     "data": {
      "text/html": [
       "<div>\n",
       "<style scoped>\n",
       "    .dataframe tbody tr th:only-of-type {\n",
       "        vertical-align: middle;\n",
       "    }\n",
       "\n",
       "    .dataframe tbody tr th {\n",
       "        vertical-align: top;\n",
       "    }\n",
       "\n",
       "    .dataframe thead th {\n",
       "        text-align: right;\n",
       "    }\n",
       "</style>\n",
       "<table border=\"1\" class=\"dataframe\">\n",
       "  <thead>\n",
       "    <tr style=\"text-align: right;\">\n",
       "      <th></th>\n",
       "      <th>line</th>\n",
       "      <th>route</th>\n",
       "      <th>SER</th>\n",
       "      <th>Dir</th>\n",
       "      <th>stop_id</th>\n",
       "      <th>StationName</th>\n",
       "      <th>tripstarthour</th>\n",
       "      <th>Daily_Boardings</th>\n",
       "      <th>Daily_Alightings</th>\n",
       "      <th>Average_Car_Load</th>\n",
       "      <th>Average_Train_Load</th>\n",
       "      <th>FY</th>\n",
       "      <th>geometry</th>\n",
       "    </tr>\n",
       "  </thead>\n",
       "  <tbody>\n",
       "    <tr>\n",
       "      <th>4050</th>\n",
       "      <td>802</td>\n",
       "      <td>802</td>\n",
       "      <td>DX</td>\n",
       "      <td>E</td>\n",
       "      <td>80214</td>\n",
       "      <td>Union Station - Metro Red &amp; Purple Lines</td>\n",
       "      <td>17</td>\n",
       "      <td>0.0</td>\n",
       "      <td>2404.643555</td>\n",
       "      <td>0.0</td>\n",
       "      <td>0.0</td>\n",
       "      <td>FY19</td>\n",
       "      <td>None</td>\n",
       "    </tr>\n",
       "    <tr>\n",
       "      <th>300</th>\n",
       "      <td>802</td>\n",
       "      <td>802</td>\n",
       "      <td>DX</td>\n",
       "      <td>E</td>\n",
       "      <td>80214</td>\n",
       "      <td>Union Station - Metro Red &amp; Purple Lines</td>\n",
       "      <td>17</td>\n",
       "      <td>0.0</td>\n",
       "      <td>2358.476807</td>\n",
       "      <td>0.0</td>\n",
       "      <td>0.0</td>\n",
       "      <td>FY18</td>\n",
       "      <td>None</td>\n",
       "    </tr>\n",
       "    <tr>\n",
       "      <th>4049</th>\n",
       "      <td>802</td>\n",
       "      <td>802</td>\n",
       "      <td>DX</td>\n",
       "      <td>E</td>\n",
       "      <td>80214</td>\n",
       "      <td>Union Station - Metro Red &amp; Purple Lines</td>\n",
       "      <td>16</td>\n",
       "      <td>0.0</td>\n",
       "      <td>2132.331543</td>\n",
       "      <td>0.0</td>\n",
       "      <td>0.0</td>\n",
       "      <td>FY19</td>\n",
       "      <td>None</td>\n",
       "    </tr>\n",
       "    <tr>\n",
       "      <th>299</th>\n",
       "      <td>802</td>\n",
       "      <td>802</td>\n",
       "      <td>DX</td>\n",
       "      <td>E</td>\n",
       "      <td>80214</td>\n",
       "      <td>Union Station - Metro Red &amp; Purple Lines</td>\n",
       "      <td>16</td>\n",
       "      <td>0.0</td>\n",
       "      <td>2028.575317</td>\n",
       "      <td>0.0</td>\n",
       "      <td>0.0</td>\n",
       "      <td>FY18</td>\n",
       "      <td>None</td>\n",
       "    </tr>\n",
       "    <tr>\n",
       "      <th>33364</th>\n",
       "      <td>802</td>\n",
       "      <td>802</td>\n",
       "      <td>DX</td>\n",
       "      <td>W</td>\n",
       "      <td>80201</td>\n",
       "      <td>North Hollywood Station</td>\n",
       "      <td>17</td>\n",
       "      <td>0.0</td>\n",
       "      <td>1825.754761</td>\n",
       "      <td>0.0</td>\n",
       "      <td>0.0</td>\n",
       "      <td>FY19</td>\n",
       "      <td>None</td>\n",
       "    </tr>\n",
       "    <tr>\n",
       "      <th>...</th>\n",
       "      <td>...</td>\n",
       "      <td>...</td>\n",
       "      <td>...</td>\n",
       "      <td>...</td>\n",
       "      <td>...</td>\n",
       "      <td>...</td>\n",
       "      <td>...</td>\n",
       "      <td>...</td>\n",
       "      <td>...</td>\n",
       "      <td>...</td>\n",
       "      <td>...</td>\n",
       "      <td>...</td>\n",
       "      <td>...</td>\n",
       "    </tr>\n",
       "    <tr>\n",
       "      <th>29623</th>\n",
       "      <td></td>\n",
       "      <td></td>\n",
       "      <td></td>\n",
       "      <td></td>\n",
       "      <td></td>\n",
       "      <td></td>\n",
       "      <td></td>\n",
       "      <td>NaN</td>\n",
       "      <td>NaN</td>\n",
       "      <td>NaN</td>\n",
       "      <td>NaN</td>\n",
       "      <td></td>\n",
       "      <td>None</td>\n",
       "    </tr>\n",
       "    <tr>\n",
       "      <th>29624</th>\n",
       "      <td></td>\n",
       "      <td></td>\n",
       "      <td></td>\n",
       "      <td></td>\n",
       "      <td></td>\n",
       "      <td></td>\n",
       "      <td></td>\n",
       "      <td>NaN</td>\n",
       "      <td>NaN</td>\n",
       "      <td>NaN</td>\n",
       "      <td>NaN</td>\n",
       "      <td></td>\n",
       "      <td>None</td>\n",
       "    </tr>\n",
       "    <tr>\n",
       "      <th>29625</th>\n",
       "      <td></td>\n",
       "      <td></td>\n",
       "      <td></td>\n",
       "      <td></td>\n",
       "      <td></td>\n",
       "      <td></td>\n",
       "      <td></td>\n",
       "      <td>NaN</td>\n",
       "      <td>NaN</td>\n",
       "      <td>NaN</td>\n",
       "      <td>NaN</td>\n",
       "      <td></td>\n",
       "      <td>None</td>\n",
       "    </tr>\n",
       "    <tr>\n",
       "      <th>29626</th>\n",
       "      <td></td>\n",
       "      <td></td>\n",
       "      <td></td>\n",
       "      <td></td>\n",
       "      <td></td>\n",
       "      <td></td>\n",
       "      <td></td>\n",
       "      <td>NaN</td>\n",
       "      <td>NaN</td>\n",
       "      <td>NaN</td>\n",
       "      <td>NaN</td>\n",
       "      <td></td>\n",
       "      <td>None</td>\n",
       "    </tr>\n",
       "    <tr>\n",
       "      <th>29627</th>\n",
       "      <td></td>\n",
       "      <td></td>\n",
       "      <td></td>\n",
       "      <td></td>\n",
       "      <td></td>\n",
       "      <td></td>\n",
       "      <td></td>\n",
       "      <td>NaN</td>\n",
       "      <td>NaN</td>\n",
       "      <td>NaN</td>\n",
       "      <td>NaN</td>\n",
       "      <td></td>\n",
       "      <td>None</td>\n",
       "    </tr>\n",
       "  </tbody>\n",
       "</table>\n",
       "<p>37067 rows × 13 columns</p>\n",
       "</div>"
      ],
      "text/plain": [
       "      line route SER Dir stop_id                               StationName  \\\n",
       "4050   802   802  DX   E   80214  Union Station - Metro Red & Purple Lines   \n",
       "300    802   802  DX   E   80214  Union Station - Metro Red & Purple Lines   \n",
       "4049   802   802  DX   E   80214  Union Station - Metro Red & Purple Lines   \n",
       "299    802   802  DX   E   80214  Union Station - Metro Red & Purple Lines   \n",
       "33364  802   802  DX   W   80201                   North Hollywood Station   \n",
       "...    ...   ...  ..  ..     ...                                       ...   \n",
       "29623                                                                        \n",
       "29624                                                                        \n",
       "29625                                                                        \n",
       "29626                                                                        \n",
       "29627                                                                        \n",
       "\n",
       "      tripstarthour  Daily_Boardings  Daily_Alightings  Average_Car_Load  \\\n",
       "4050             17              0.0       2404.643555               0.0   \n",
       "300              17              0.0       2358.476807               0.0   \n",
       "4049             16              0.0       2132.331543               0.0   \n",
       "299              16              0.0       2028.575317               0.0   \n",
       "33364            17              0.0       1825.754761               0.0   \n",
       "...             ...              ...               ...               ...   \n",
       "29623                            NaN               NaN               NaN   \n",
       "29624                            NaN               NaN               NaN   \n",
       "29625                            NaN               NaN               NaN   \n",
       "29626                            NaN               NaN               NaN   \n",
       "29627                            NaN               NaN               NaN   \n",
       "\n",
       "       Average_Train_Load    FY geometry  \n",
       "4050                  0.0  FY19     None  \n",
       "300                   0.0  FY18     None  \n",
       "4049                  0.0  FY19     None  \n",
       "299                   0.0  FY18     None  \n",
       "33364                 0.0  FY19     None  \n",
       "...                   ...   ...      ...  \n",
       "29623                 NaN           None  \n",
       "29624                 NaN           None  \n",
       "29625                 NaN           None  \n",
       "29626                 NaN           None  \n",
       "29627                 NaN           None  \n",
       "\n",
       "[37067 rows x 13 columns]"
      ]
     },
     "execution_count": 30,
     "metadata": {},
     "output_type": "execute_result"
    }
   ],
   "source": [
    " LA_ride.sort_values(by=['Daily_Alightings'], ascending = False)"
   ]
  },
  {
   "cell_type": "markdown",
   "metadata": {},
   "source": [
    "(We received this dataset from LaMetro at almost the last momment of our project. We are already conducting analysis assuming that DTLA has the highest ridership, which is confirmed in the above cell. Thus, we stop cleaning this data here.)"
   ]
  },
  {
   "cell_type": "code",
   "execution_count": null,
   "metadata": {},
   "outputs": [],
   "source": []
  },
  {
   "cell_type": "markdown",
   "metadata": {},
   "source": [
    "Export dataframes to geojson to enable import in the following notebooks."
   ]
  },
  {
   "cell_type": "code",
   "execution_count": 31,
   "metadata": {},
   "outputs": [],
   "source": [
    "LA_pop.to_file(\"data/LA_pop.json\", driver=\"GeoJSON\")\n",
    "LA_jobs.to_file(\"data/LA_jobs.json\", driver=\"GeoJSON\")\n",
    "LA_com.to_file(\"data/LA_com.json\", driver=\"GeoJSON\")"
   ]
  },
  {
   "cell_type": "code",
   "execution_count": null,
   "metadata": {},
   "outputs": [],
   "source": []
  },
  {
   "cell_type": "markdown",
   "metadata": {},
   "source": [
    "### Cleaning dataset for Seoul"
   ]
  },
  {
   "cell_type": "markdown",
   "metadata": {},
   "source": [
    "'seoul_data_com.csv' has population, number of workers, and commute data in it. It is the master spreadsheet for Seoul."
   ]
  },
  {
   "cell_type": "markdown",
   "metadata": {},
   "source": [
    "Import data"
   ]
  },
  {
   "cell_type": "code",
   "execution_count": 32,
   "metadata": {},
   "outputs": [],
   "source": [
    "Seoul_data = gpd.read_file('data/seoul_data_com.csv')"
   ]
  },
  {
   "cell_type": "markdown",
   "metadata": {},
   "source": [
    "Drop columns"
   ]
  },
  {
   "cell_type": "code",
   "execution_count": 33,
   "metadata": {},
   "outputs": [],
   "source": [
    "Seoul_data_columns_to_keep = ['Gu', 'Dong',  'Population',  'Number of workers', 'Public_transportation', 'Car']"
   ]
  },
  {
   "cell_type": "markdown",
   "metadata": {},
   "source": [
    "Redefine data"
   ]
  },
  {
   "cell_type": "code",
   "execution_count": 34,
   "metadata": {},
   "outputs": [],
   "source": [
    "Seoul_data = Seoul_data[Seoul_data_columns_to_keep]"
   ]
  },
  {
   "cell_type": "markdown",
   "metadata": {},
   "source": [
    "Import boundary shapefile (the above csv has no geometry)"
   ]
  },
  {
   "cell_type": "code",
   "execution_count": 35,
   "metadata": {},
   "outputs": [],
   "source": [
    "adm_dong_seoul = gpd.read_file('data/adm_dong_seoul.shp')"
   ]
  },
  {
   "cell_type": "markdown",
   "metadata": {},
   "source": [
    "Make a column that is a key for joining two datasets"
   ]
  },
  {
   "cell_type": "code",
   "execution_count": 36,
   "metadata": {},
   "outputs": [],
   "source": [
    "adm_dong_seoul['Dong'] = adm_dong_seoul['ADM_DR_NM']"
   ]
  },
  {
   "cell_type": "markdown",
   "metadata": {},
   "source": [
    "Merge and redefine data"
   ]
  },
  {
   "cell_type": "code",
   "execution_count": 37,
   "metadata": {},
   "outputs": [],
   "source": [
    "adm_dong_seoul = adm_dong_seoul.merge(Seoul_data, on='Dong')"
   ]
  },
  {
   "cell_type": "markdown",
   "metadata": {},
   "source": [
    "Change data type from object to string"
   ]
  },
  {
   "cell_type": "code",
   "execution_count": 38,
   "metadata": {},
   "outputs": [],
   "source": [
    "adm_dong_seoul['Population'] = pd.to_numeric(Seoul_data['Population'])\n",
    "adm_dong_seoul['Number of workers'] = pd.to_numeric(Seoul_data['Number of workers'])\n",
    "adm_dong_seoul['Public_transportation'] = pd.to_numeric(Seoul_data['Public_transportation'])\n",
    "adm_dong_seoul['Car'] = pd.to_numeric(Seoul_data['Car'])"
   ]
  },
  {
   "cell_type": "markdown",
   "metadata": {},
   "source": [
    "Calculate population density and job density"
   ]
  },
  {
   "cell_type": "code",
   "execution_count": 39,
   "metadata": {},
   "outputs": [],
   "source": [
    "adm_dong_seoul[\"area\"]=adm_dong_seoul['geometry'].area"
   ]
  },
  {
   "cell_type": "code",
   "execution_count": 40,
   "metadata": {},
   "outputs": [],
   "source": [
    "adm_dong_seoul[\"Pop_Density\"]=adm_dong_seoul['Population']/adm_dong_seoul['area']\n",
    "adm_dong_seoul[\"Work_Density\"]=adm_dong_seoul['Number of workers']/adm_dong_seoul['area']"
   ]
  },
  {
   "cell_type": "code",
   "execution_count": 41,
   "metadata": {},
   "outputs": [
    {
     "data": {
      "text/html": [
       "<div>\n",
       "<style scoped>\n",
       "    .dataframe tbody tr th:only-of-type {\n",
       "        vertical-align: middle;\n",
       "    }\n",
       "\n",
       "    .dataframe tbody tr th {\n",
       "        vertical-align: top;\n",
       "    }\n",
       "\n",
       "    .dataframe thead th {\n",
       "        text-align: right;\n",
       "    }\n",
       "</style>\n",
       "<table border=\"1\" class=\"dataframe\">\n",
       "  <thead>\n",
       "    <tr style=\"text-align: right;\">\n",
       "      <th></th>\n",
       "      <th>BASE_DATE</th>\n",
       "      <th>ADM_DR_CD</th>\n",
       "      <th>ADM_DR_NM</th>\n",
       "      <th>OBJECTID</th>\n",
       "      <th>geometry</th>\n",
       "      <th>Dong</th>\n",
       "      <th>Gu</th>\n",
       "      <th>Population</th>\n",
       "      <th>Number of workers</th>\n",
       "      <th>Public_transportation</th>\n",
       "      <th>Car</th>\n",
       "      <th>area</th>\n",
       "      <th>Pop_Density</th>\n",
       "      <th>Work_Density</th>\n",
       "    </tr>\n",
       "  </thead>\n",
       "  <tbody>\n",
       "    <tr>\n",
       "      <th>0</th>\n",
       "      <td>20200630</td>\n",
       "      <td>1101053</td>\n",
       "      <td>사직동</td>\n",
       "      <td>1</td>\n",
       "      <td>POLYGON ((197702.069 453187.312, 197703.481 45...</td>\n",
       "      <td>사직동</td>\n",
       "      <td>종로구</td>\n",
       "      <td>4765</td>\n",
       "      <td>49536.0</td>\n",
       "      <td>57.0</td>\n",
       "      <td>15.3</td>\n",
       "      <td>1.158538e+06</td>\n",
       "      <td>0.004113</td>\n",
       "      <td>0.042757</td>\n",
       "    </tr>\n",
       "    <tr>\n",
       "      <th>1</th>\n",
       "      <td>20200630</td>\n",
       "      <td>1101054</td>\n",
       "      <td>삼청동</td>\n",
       "      <td>2</td>\n",
       "      <td>POLYGON ((197980.839 455346.068, 197995.471 45...</td>\n",
       "      <td>삼청동</td>\n",
       "      <td>종로구</td>\n",
       "      <td>1369</td>\n",
       "      <td>4577.0</td>\n",
       "      <td>57.0</td>\n",
       "      <td>15.3</td>\n",
       "      <td>1.479250e+06</td>\n",
       "      <td>0.000925</td>\n",
       "      <td>0.003094</td>\n",
       "    </tr>\n",
       "    <tr>\n",
       "      <th>2</th>\n",
       "      <td>20200630</td>\n",
       "      <td>1101055</td>\n",
       "      <td>부암동</td>\n",
       "      <td>3</td>\n",
       "      <td>POLYGON ((196621.073 456395.880, 196628.373 45...</td>\n",
       "      <td>부암동</td>\n",
       "      <td>종로구</td>\n",
       "      <td>4348</td>\n",
       "      <td>3609.0</td>\n",
       "      <td>57.0</td>\n",
       "      <td>15.3</td>\n",
       "      <td>2.274721e+06</td>\n",
       "      <td>0.001911</td>\n",
       "      <td>0.001587</td>\n",
       "    </tr>\n",
       "    <tr>\n",
       "      <th>3</th>\n",
       "      <td>20200630</td>\n",
       "      <td>1101056</td>\n",
       "      <td>평창동</td>\n",
       "      <td>4</td>\n",
       "      <td>POLYGON ((197800.769 459064.245, 197782.531 45...</td>\n",
       "      <td>평창동</td>\n",
       "      <td>종로구</td>\n",
       "      <td>7518</td>\n",
       "      <td>3565.0</td>\n",
       "      <td>57.0</td>\n",
       "      <td>15.3</td>\n",
       "      <td>8.947324e+06</td>\n",
       "      <td>0.000840</td>\n",
       "      <td>0.000398</td>\n",
       "    </tr>\n",
       "    <tr>\n",
       "      <th>4</th>\n",
       "      <td>20200630</td>\n",
       "      <td>1101057</td>\n",
       "      <td>무악동</td>\n",
       "      <td>5</td>\n",
       "      <td>POLYGON ((196444.745 453384.564, 196471.668 45...</td>\n",
       "      <td>무악동</td>\n",
       "      <td>종로구</td>\n",
       "      <td>3203</td>\n",
       "      <td>1598.0</td>\n",
       "      <td>57.0</td>\n",
       "      <td>15.3</td>\n",
       "      <td>3.695239e+05</td>\n",
       "      <td>0.008668</td>\n",
       "      <td>0.004324</td>\n",
       "    </tr>\n",
       "  </tbody>\n",
       "</table>\n",
       "</div>"
      ],
      "text/plain": [
       "  BASE_DATE ADM_DR_CD ADM_DR_NM OBJECTID  \\\n",
       "0  20200630   1101053       사직동        1   \n",
       "1  20200630   1101054       삼청동        2   \n",
       "2  20200630   1101055       부암동        3   \n",
       "3  20200630   1101056       평창동        4   \n",
       "4  20200630   1101057       무악동        5   \n",
       "\n",
       "                                            geometry Dong   Gu  Population  \\\n",
       "0  POLYGON ((197702.069 453187.312, 197703.481 45...  사직동  종로구        4765   \n",
       "1  POLYGON ((197980.839 455346.068, 197995.471 45...  삼청동  종로구        1369   \n",
       "2  POLYGON ((196621.073 456395.880, 196628.373 45...  부암동  종로구        4348   \n",
       "3  POLYGON ((197800.769 459064.245, 197782.531 45...  평창동  종로구        7518   \n",
       "4  POLYGON ((196444.745 453384.564, 196471.668 45...  무악동  종로구        3203   \n",
       "\n",
       "   Number of workers  Public_transportation   Car          area  Pop_Density  \\\n",
       "0            49536.0                   57.0  15.3  1.158538e+06     0.004113   \n",
       "1             4577.0                   57.0  15.3  1.479250e+06     0.000925   \n",
       "2             3609.0                   57.0  15.3  2.274721e+06     0.001911   \n",
       "3             3565.0                   57.0  15.3  8.947324e+06     0.000840   \n",
       "4             1598.0                   57.0  15.3  3.695239e+05     0.008668   \n",
       "\n",
       "   Work_Density  \n",
       "0      0.042757  \n",
       "1      0.003094  \n",
       "2      0.001587  \n",
       "3      0.000398  \n",
       "4      0.004324  "
      ]
     },
     "execution_count": 41,
     "metadata": {},
     "output_type": "execute_result"
    }
   ],
   "source": [
    "adm_dong_seoul.head()"
   ]
  },
  {
   "cell_type": "markdown",
   "metadata": {},
   "source": [
    "Import Seoul railway point data    \n",
    "(In Seoul Metropolitan area, there are about 20 lines including lines that are operated by SeoulMetro and some private-owned lines. Our shapefile includes the 10 main lines that are mainly used within Seoul and the outskirts.)"
   ]
  },
  {
   "cell_type": "code",
   "execution_count": 42,
   "metadata": {},
   "outputs": [],
   "source": [
    "Seoul_rail_point = gpd.read_file('data/seoul_subway_ridership_joined.shp')"
   ]
  },
  {
   "cell_type": "markdown",
   "metadata": {},
   "source": [
    "Import rail ridership data"
   ]
  },
  {
   "cell_type": "code",
   "execution_count": 43,
   "metadata": {},
   "outputs": [],
   "source": [
    "Seoul_rail_ridership = gpd.read_file('data/seoul_subway_ridership_december.csv')"
   ]
  },
  {
   "cell_type": "markdown",
   "metadata": {},
   "source": [
    "These two data will be joined. "
   ]
  },
  {
   "cell_type": "markdown",
   "metadata": {},
   "source": [
    "Make a list of columns to keep"
   ]
  },
  {
   "cell_type": "code",
   "execution_count": 44,
   "metadata": {},
   "outputs": [],
   "source": [
    "rail_columnstokeep = ['line', 'st_nm', 'ridership']"
   ]
  },
  {
   "cell_type": "code",
   "execution_count": 45,
   "metadata": {},
   "outputs": [],
   "source": [
    "Seoul_rail_ridership = Seoul_rail_ridership[rail_columnstokeep]"
   ]
  },
  {
   "cell_type": "markdown",
   "metadata": {},
   "source": [
    "Create column that will work as key to join"
   ]
  },
  {
   "cell_type": "code",
   "execution_count": 46,
   "metadata": {},
   "outputs": [],
   "source": [
    "Seoul_rail_point['st_nm'] = Seoul_rail_point['stn_name']"
   ]
  },
  {
   "cell_type": "markdown",
   "metadata": {},
   "source": [
    "Join a shapefile and csv"
   ]
  },
  {
   "cell_type": "code",
   "execution_count": 47,
   "metadata": {},
   "outputs": [],
   "source": [
    "Seoul_rail_point = Seoul_rail_point.merge(Seoul_rail_ridership, on='st_nm')"
   ]
  },
  {
   "cell_type": "code",
   "execution_count": 48,
   "metadata": {},
   "outputs": [
    {
     "data": {
      "text/plain": [
       "<Projected CRS: EPSG:5174>\n",
       "Name: Korean 1985 / Modified Central Belt\n",
       "Axis Info [cartesian]:\n",
       "- X[north]: Northing (metre)\n",
       "- Y[east]: Easting (metre)\n",
       "Area of Use:\n",
       "- name: Korea, Republic of (South Korea) - 126°E to 128°E mainland\n",
       "- bounds: (126.0, 33.96, 128.0, 38.33)\n",
       "Coordinate Operation:\n",
       "- name: Korea Modified Central Belt\n",
       "- method: Transverse Mercator\n",
       "Datum: Korean Datum 1985\n",
       "- Ellipsoid: Bessel 1841\n",
       "- Prime Meridian: Greenwich"
      ]
     },
     "execution_count": 48,
     "metadata": {},
     "output_type": "execute_result"
    }
   ],
   "source": [
    "Seoul_rail_point.crs"
   ]
  },
  {
   "cell_type": "code",
   "execution_count": 49,
   "metadata": {},
   "outputs": [
    {
     "data": {
      "text/html": [
       "<div>\n",
       "<style scoped>\n",
       "    .dataframe tbody tr th:only-of-type {\n",
       "        vertical-align: middle;\n",
       "    }\n",
       "\n",
       "    .dataframe tbody tr th {\n",
       "        vertical-align: top;\n",
       "    }\n",
       "\n",
       "    .dataframe thead th {\n",
       "        text-align: right;\n",
       "    }\n",
       "</style>\n",
       "<table border=\"1\" class=\"dataframe\">\n",
       "  <thead>\n",
       "    <tr style=\"text-align: right;\">\n",
       "      <th></th>\n",
       "      <th>번호</th>\n",
       "      <th>stn_name</th>\n",
       "      <th>adm(leg)_d</th>\n",
       "      <th>stn_addres</th>\n",
       "      <th>zipcode</th>\n",
       "      <th>입력주소</th>\n",
       "      <th>X</th>\n",
       "      <th>Y</th>\n",
       "      <th>CLSS</th>\n",
       "      <th>PNU</th>\n",
       "      <th>...</th>\n",
       "      <th>표준신주소</th>\n",
       "      <th>표준구주소</th>\n",
       "      <th>우편번호</th>\n",
       "      <th>seoul_subw</th>\n",
       "      <th>seoul_su_1</th>\n",
       "      <th>seoul_su_2</th>\n",
       "      <th>geometry</th>\n",
       "      <th>st_nm</th>\n",
       "      <th>line</th>\n",
       "      <th>ridership</th>\n",
       "    </tr>\n",
       "  </thead>\n",
       "  <tbody>\n",
       "    <tr>\n",
       "      <th>0</th>\n",
       "      <td>2</td>\n",
       "      <td>시청(1)역</td>\n",
       "      <td>명동(태평로1가)</td>\n",
       "      <td>서울시 중구 태평로1가 31</td>\n",
       "      <td>4519</td>\n",
       "      <td>서울시 중구 태평로1가 31</td>\n",
       "      <td>198018</td>\n",
       "      <td>451601</td>\n",
       "      <td>정좌표</td>\n",
       "      <td>공개용버전 미지원</td>\n",
       "      <td>...</td>\n",
       "      <td>미지원</td>\n",
       "      <td>미지원</td>\n",
       "      <td>04524</td>\n",
       "      <td>1호선</td>\n",
       "      <td>시청(1)역</td>\n",
       "      <td>852766</td>\n",
       "      <td>POINT (198018.000 451601.000)</td>\n",
       "      <td>시청(1)역</td>\n",
       "      <td>1호선</td>\n",
       "      <td>852766</td>\n",
       "    </tr>\n",
       "    <tr>\n",
       "      <th>1</th>\n",
       "      <td>3</td>\n",
       "      <td>종각(1)역</td>\n",
       "      <td>종로1.2.3.4가동(종로1가)</td>\n",
       "      <td>서울시 종로구 종로1가 44</td>\n",
       "      <td>3161</td>\n",
       "      <td>서울시 종로구 종로1가 44</td>\n",
       "      <td>198343</td>\n",
       "      <td>452018</td>\n",
       "      <td>인근좌표</td>\n",
       "      <td>공개용버전 미지원</td>\n",
       "      <td>...</td>\n",
       "      <td>미지원</td>\n",
       "      <td>미지원</td>\n",
       "      <td>NULL</td>\n",
       "      <td>1호선</td>\n",
       "      <td>종각(1)역</td>\n",
       "      <td>1309829</td>\n",
       "      <td>POINT (198343.000 452018.000)</td>\n",
       "      <td>종각(1)역</td>\n",
       "      <td>1호선</td>\n",
       "      <td>1309829</td>\n",
       "    </tr>\n",
       "    <tr>\n",
       "      <th>2</th>\n",
       "      <td>6</td>\n",
       "      <td>동대문(1)역</td>\n",
       "      <td>창신제1동(창신동)</td>\n",
       "      <td>서울시 종로구 창신1동 552</td>\n",
       "      <td>3119</td>\n",
       "      <td>서울시 종로구 창신1동 552</td>\n",
       "      <td>201032</td>\n",
       "      <td>452179</td>\n",
       "      <td>인근좌표</td>\n",
       "      <td>공개용버전 미지원</td>\n",
       "      <td>...</td>\n",
       "      <td>미지원</td>\n",
       "      <td>미지원</td>\n",
       "      <td>NULL</td>\n",
       "      <td>1호선</td>\n",
       "      <td>동대문(1)역</td>\n",
       "      <td>504353</td>\n",
       "      <td>POINT (201032.000 452179.000)</td>\n",
       "      <td>동대문(1)역</td>\n",
       "      <td>1호선</td>\n",
       "      <td>504353</td>\n",
       "    </tr>\n",
       "    <tr>\n",
       "      <th>3</th>\n",
       "      <td>7</td>\n",
       "      <td>동묘앞(1)역</td>\n",
       "      <td>숭인제1동(숭인동)</td>\n",
       "      <td>서울시 종로구 숭인동 117</td>\n",
       "      <td>3113</td>\n",
       "      <td>서울시 종로구 숭인동 117</td>\n",
       "      <td>201444</td>\n",
       "      <td>452367</td>\n",
       "      <td>정좌표</td>\n",
       "      <td>공개용버전 미지원</td>\n",
       "      <td>...</td>\n",
       "      <td>미지원</td>\n",
       "      <td>미지원</td>\n",
       "      <td>03113</td>\n",
       "      <td>1호선</td>\n",
       "      <td>동묘앞(1)역</td>\n",
       "      <td>423253</td>\n",
       "      <td>POINT (201444.000 452367.000)</td>\n",
       "      <td>동묘앞(1)역</td>\n",
       "      <td>1호선</td>\n",
       "      <td>423253</td>\n",
       "    </tr>\n",
       "    <tr>\n",
       "      <th>4</th>\n",
       "      <td>8</td>\n",
       "      <td>신설동(1)역</td>\n",
       "      <td>용신동(신설동)</td>\n",
       "      <td>서울시 동대문구 신설동 97-75</td>\n",
       "      <td>2582</td>\n",
       "      <td>서울시 동대문구 신설동 97-75</td>\n",
       "      <td>202246</td>\n",
       "      <td>452552</td>\n",
       "      <td>인근좌표</td>\n",
       "      <td>공개용버전 미지원</td>\n",
       "      <td>...</td>\n",
       "      <td>미지원</td>\n",
       "      <td>미지원</td>\n",
       "      <td>NULL</td>\n",
       "      <td>1호선</td>\n",
       "      <td>신설동(1)역</td>\n",
       "      <td>613813</td>\n",
       "      <td>POINT (202246.000 452552.000)</td>\n",
       "      <td>신설동(1)역</td>\n",
       "      <td>1호선</td>\n",
       "      <td>613813</td>\n",
       "    </tr>\n",
       "  </tbody>\n",
       "</table>\n",
       "<p>5 rows × 21 columns</p>\n",
       "</div>"
      ],
      "text/plain": [
       "  번호 stn_name         adm(leg)_d          stn_addres zipcode  \\\n",
       "0  2   시청(1)역          명동(태평로1가)     서울시 중구 태평로1가 31    4519   \n",
       "1  3   종각(1)역  종로1.2.3.4가동(종로1가)     서울시 종로구 종로1가 44    3161   \n",
       "2  6  동대문(1)역         창신제1동(창신동)    서울시 종로구 창신1동 552    3119   \n",
       "3  7  동묘앞(1)역         숭인제1동(숭인동)     서울시 종로구 숭인동 117    3113   \n",
       "4  8  신설동(1)역           용신동(신설동)  서울시 동대문구 신설동 97-75    2582   \n",
       "\n",
       "                 입력주소       X       Y  CLSS        PNU  ... 표준신주소 표준구주소  \\\n",
       "0     서울시 중구 태평로1가 31  198018  451601   정좌표  공개용버전 미지원  ...   미지원   미지원   \n",
       "1     서울시 종로구 종로1가 44  198343  452018  인근좌표  공개용버전 미지원  ...   미지원   미지원   \n",
       "2    서울시 종로구 창신1동 552  201032  452179  인근좌표  공개용버전 미지원  ...   미지원   미지원   \n",
       "3     서울시 종로구 숭인동 117  201444  452367   정좌표  공개용버전 미지원  ...   미지원   미지원   \n",
       "4  서울시 동대문구 신설동 97-75  202246  452552  인근좌표  공개용버전 미지원  ...   미지원   미지원   \n",
       "\n",
       "    우편번호 seoul_subw seoul_su_1 seoul_su_2                       geometry  \\\n",
       "0  04524        1호선     시청(1)역     852766  POINT (198018.000 451601.000)   \n",
       "1   NULL        1호선     종각(1)역    1309829  POINT (198343.000 452018.000)   \n",
       "2   NULL        1호선    동대문(1)역     504353  POINT (201032.000 452179.000)   \n",
       "3  03113        1호선    동묘앞(1)역     423253  POINT (201444.000 452367.000)   \n",
       "4   NULL        1호선    신설동(1)역     613813  POINT (202246.000 452552.000)   \n",
       "\n",
       "     st_nm line ridership  \n",
       "0   시청(1)역  1호선    852766  \n",
       "1   종각(1)역  1호선   1309829  \n",
       "2  동대문(1)역  1호선    504353  \n",
       "3  동묘앞(1)역  1호선    423253  \n",
       "4  신설동(1)역  1호선    613813  \n",
       "\n",
       "[5 rows x 21 columns]"
      ]
     },
     "execution_count": 49,
     "metadata": {},
     "output_type": "execute_result"
    }
   ],
   "source": [
    "Seoul_rail_point.head()"
   ]
  },
  {
   "cell_type": "markdown",
   "metadata": {},
   "source": [
    "Make a list of columns to keep. Joined file above has unnecessary columns."
   ]
  },
  {
   "cell_type": "code",
   "execution_count": 50,
   "metadata": {},
   "outputs": [],
   "source": [
    "Seoul_rail_columnstokeep = ['line','stn_name','st_nm', 'ridership', 'geometry']"
   ]
  },
  {
   "cell_type": "markdown",
   "metadata": {},
   "source": [
    "Redefine the file."
   ]
  },
  {
   "cell_type": "code",
   "execution_count": 51,
   "metadata": {},
   "outputs": [],
   "source": [
    "Seoul_rail_point = Seoul_rail_point[Seoul_rail_columnstokeep]"
   ]
  },
  {
   "cell_type": "markdown",
   "metadata": {},
   "source": [
    "Change data type to string"
   ]
  },
  {
   "cell_type": "code",
   "execution_count": 52,
   "metadata": {},
   "outputs": [],
   "source": [
    "Seoul_rail_point['ridership'] = pd.to_numeric(Seoul_rail_point['ridership'])"
   ]
  },
  {
   "cell_type": "code",
   "execution_count": 53,
   "metadata": {},
   "outputs": [
    {
     "data": {
      "text/html": [
       "<div>\n",
       "<style scoped>\n",
       "    .dataframe tbody tr th:only-of-type {\n",
       "        vertical-align: middle;\n",
       "    }\n",
       "\n",
       "    .dataframe tbody tr th {\n",
       "        vertical-align: top;\n",
       "    }\n",
       "\n",
       "    .dataframe thead th {\n",
       "        text-align: right;\n",
       "    }\n",
       "</style>\n",
       "<table border=\"1\" class=\"dataframe\">\n",
       "  <thead>\n",
       "    <tr style=\"text-align: right;\">\n",
       "      <th></th>\n",
       "      <th>line</th>\n",
       "      <th>stn_name</th>\n",
       "      <th>st_nm</th>\n",
       "      <th>ridership</th>\n",
       "      <th>geometry</th>\n",
       "    </tr>\n",
       "  </thead>\n",
       "  <tbody>\n",
       "    <tr>\n",
       "      <th>0</th>\n",
       "      <td>1호선</td>\n",
       "      <td>시청(1)역</td>\n",
       "      <td>시청(1)역</td>\n",
       "      <td>852766</td>\n",
       "      <td>POINT (198018.000 451601.000)</td>\n",
       "    </tr>\n",
       "    <tr>\n",
       "      <th>1</th>\n",
       "      <td>1호선</td>\n",
       "      <td>종각(1)역</td>\n",
       "      <td>종각(1)역</td>\n",
       "      <td>1309829</td>\n",
       "      <td>POINT (198343.000 452018.000)</td>\n",
       "    </tr>\n",
       "    <tr>\n",
       "      <th>2</th>\n",
       "      <td>1호선</td>\n",
       "      <td>동대문(1)역</td>\n",
       "      <td>동대문(1)역</td>\n",
       "      <td>504353</td>\n",
       "      <td>POINT (201032.000 452179.000)</td>\n",
       "    </tr>\n",
       "    <tr>\n",
       "      <th>3</th>\n",
       "      <td>1호선</td>\n",
       "      <td>동묘앞(1)역</td>\n",
       "      <td>동묘앞(1)역</td>\n",
       "      <td>423253</td>\n",
       "      <td>POINT (201444.000 452367.000)</td>\n",
       "    </tr>\n",
       "    <tr>\n",
       "      <th>4</th>\n",
       "      <td>1호선</td>\n",
       "      <td>신설동(1)역</td>\n",
       "      <td>신설동(1)역</td>\n",
       "      <td>613813</td>\n",
       "      <td>POINT (202246.000 452552.000)</td>\n",
       "    </tr>\n",
       "  </tbody>\n",
       "</table>\n",
       "</div>"
      ],
      "text/plain": [
       "  line stn_name    st_nm  ridership                       geometry\n",
       "0  1호선   시청(1)역   시청(1)역     852766  POINT (198018.000 451601.000)\n",
       "1  1호선   종각(1)역   종각(1)역    1309829  POINT (198343.000 452018.000)\n",
       "2  1호선  동대문(1)역  동대문(1)역     504353  POINT (201032.000 452179.000)\n",
       "3  1호선  동묘앞(1)역  동묘앞(1)역     423253  POINT (201444.000 452367.000)\n",
       "4  1호선  신설동(1)역  신설동(1)역     613813  POINT (202246.000 452552.000)"
      ]
     },
     "execution_count": 53,
     "metadata": {},
     "output_type": "execute_result"
    }
   ],
   "source": [
    "Seoul_rail_point.head()"
   ]
  },
  {
   "cell_type": "markdown",
   "metadata": {},
   "source": [
    "Export files as geojson"
   ]
  },
  {
   "cell_type": "code",
   "execution_count": null,
   "metadata": {},
   "outputs": [],
   "source": [
    "adm_dong_seoul.to_file(\"data/Seoul_master.json\", driver=\"GeoJSON\")\n",
    "Seoul_rail_point.to_file(\"data/Seoul_rail_ridership.json\", driver=\"GeoJSON\")"
   ]
  },
  {
   "cell_type": "markdown",
   "metadata": {},
   "source": [
    "This is the end of the notebook1. In the next notebook, '206a_FINAL_2_ShinahAudrey', I will conduct citywide analysis and plot histograms and maps."
   ]
  },
  {
   "cell_type": "code",
   "execution_count": null,
   "metadata": {},
   "outputs": [],
   "source": []
  }
 ],
 "metadata": {
  "kernelspec": {
   "display_name": "Python 3",
   "language": "python",
   "name": "python3"
  },
  "language_info": {
   "codemirror_mode": {
    "name": "ipython",
    "version": 3
   },
   "file_extension": ".py",
   "mimetype": "text/x-python",
   "name": "python",
   "nbconvert_exporter": "python",
   "pygments_lexer": "ipython3",
   "version": "3.8.5"
  },
  "toc": {
   "base_numbering": 1,
   "nav_menu": {},
   "number_sections": true,
   "sideBar": true,
   "skip_h1_title": false,
   "title_cell": "Table of Contents",
   "title_sidebar": "Contents",
   "toc_cell": false,
   "toc_position": {},
   "toc_section_display": true,
   "toc_window_display": false
  }
 },
 "nbformat": 4,
 "nbformat_minor": 4
}
